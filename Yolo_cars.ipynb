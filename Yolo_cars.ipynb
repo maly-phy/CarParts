{
 "cells": [
  {
   "cell_type": "code",
   "execution_count": null,
   "metadata": {
    "id": "TWfCuk0qy6Wf"
   },
   "outputs": [],
   "source": [
    "!pip install -q fiftyone"
   ]
  },
  {
   "cell_type": "code",
   "execution_count": null,
   "metadata": {
    "id": "Ex63Bywqy8U-"
   },
   "outputs": [],
   "source": [
    "!pip install fastapi python-multipart uvicorn"
   ]
  },
  {
   "cell_type": "code",
   "execution_count": null,
   "metadata": {
    "colab": {
     "base_uri": "https://localhost:8080/"
    },
    "id": "lihBLgzZzetX",
    "outputId": "d1bc9418-489e-4a21-d1f2-61fc1e47e64a"
   },
   "outputs": [
    {
     "name": "stdout",
     "output_type": "stream",
     "text": [
      "Migrating database to v0.23.2\n"
     ]
    },
    {
     "name": "stderr",
     "output_type": "stream",
     "text": [
      "INFO:fiftyone.migrations.runner:Migrating database to v0.23.2\n"
     ]
    }
   ],
   "source": [
    "import fiftyone as fo\n",
    "import fiftyone.zoo as foz"
   ]
  },
  {
   "cell_type": "code",
   "execution_count": null,
   "metadata": {
    "colab": {
     "base_uri": "https://localhost:8080/"
    },
    "id": "wCISN16UzuDG",
    "outputId": "93d87f09-00e8-4db2-c956-fd72ed45d2d9"
   },
   "outputs": [
    {
     "name": "stdout",
     "output_type": "stream",
     "text": [
      "Downloading split 'train' to '/root/fiftyone/open-images-v7/train' if necessary\n"
     ]
    },
    {
     "name": "stderr",
     "output_type": "stream",
     "text": [
      "INFO:fiftyone.zoo.datasets:Downloading split 'train' to '/root/fiftyone/open-images-v7/train' if necessary\n"
     ]
    },
    {
     "name": "stdout",
     "output_type": "stream",
     "text": [
      "Downloading 'https://storage.googleapis.com/openimages/2018_04/train/train-images-boxable-with-rotation.csv' to '/root/fiftyone/open-images-v7/train/metadata/image_ids.csv'\n"
     ]
    },
    {
     "name": "stderr",
     "output_type": "stream",
     "text": [
      "INFO:fiftyone.utils.openimages:Downloading 'https://storage.googleapis.com/openimages/2018_04/train/train-images-boxable-with-rotation.csv' to '/root/fiftyone/open-images-v7/train/metadata/image_ids.csv'\n"
     ]
    },
    {
     "name": "stdout",
     "output_type": "stream",
     "text": [
      " 100% |██████|    4.8Gb/4.8Gb [4.4s elapsed, 0s remaining, 1.6Gb/s]       \n"
     ]
    },
    {
     "name": "stderr",
     "output_type": "stream",
     "text": [
      "INFO:eta.core.utils: 100% |██████|    4.8Gb/4.8Gb [4.4s elapsed, 0s remaining, 1.6Gb/s]       \n"
     ]
    },
    {
     "name": "stdout",
     "output_type": "stream",
     "text": [
      "Downloading 'https://storage.googleapis.com/openimages/v5/class-descriptions-boxable.csv' to '/root/fiftyone/open-images-v7/train/metadata/classes.csv'\n"
     ]
    },
    {
     "name": "stderr",
     "output_type": "stream",
     "text": [
      "INFO:fiftyone.utils.openimages:Downloading 'https://storage.googleapis.com/openimages/v5/class-descriptions-boxable.csv' to '/root/fiftyone/open-images-v7/train/metadata/classes.csv'\n"
     ]
    },
    {
     "name": "stdout",
     "output_type": "stream",
     "text": [
      "Downloading 'https://storage.googleapis.com/openimages/2018_04/bbox_labels_600_hierarchy.json' to '/tmp/tmp1786oop4/metadata/hierarchy.json'\n"
     ]
    },
    {
     "name": "stderr",
     "output_type": "stream",
     "text": [
      "INFO:fiftyone.utils.openimages:Downloading 'https://storage.googleapis.com/openimages/2018_04/bbox_labels_600_hierarchy.json' to '/tmp/tmp1786oop4/metadata/hierarchy.json'\n"
     ]
    },
    {
     "name": "stdout",
     "output_type": "stream",
     "text": [
      "Downloading 'https://storage.googleapis.com/openimages/v6/oidv6-train-annotations-bbox.csv' to '/root/fiftyone/open-images-v7/train/labels/detections.csv'\n"
     ]
    },
    {
     "name": "stderr",
     "output_type": "stream",
     "text": [
      "INFO:fiftyone.utils.openimages:Downloading 'https://storage.googleapis.com/openimages/v6/oidv6-train-annotations-bbox.csv' to '/root/fiftyone/open-images-v7/train/labels/detections.csv'\n"
     ]
    },
    {
     "name": "stdout",
     "output_type": "stream",
     "text": [
      "Downloading 500 images\n"
     ]
    },
    {
     "name": "stderr",
     "output_type": "stream",
     "text": [
      "INFO:fiftyone.utils.openimages:Downloading 500 images\n"
     ]
    },
    {
     "name": "stdout",
     "output_type": "stream",
     "text": [
      " 100% |███████████████████| 500/500 [39.2s elapsed, 0s remaining, 13.8 files/s]      \n"
     ]
    },
    {
     "name": "stderr",
     "output_type": "stream",
     "text": [
      "INFO:eta.core.utils: 100% |███████████████████| 500/500 [39.2s elapsed, 0s remaining, 13.8 files/s]      \n"
     ]
    },
    {
     "name": "stdout",
     "output_type": "stream",
     "text": [
      "Dataset info written to '/root/fiftyone/open-images-v7/info.json'\n"
     ]
    },
    {
     "name": "stderr",
     "output_type": "stream",
     "text": [
      "INFO:fiftyone.zoo.datasets:Dataset info written to '/root/fiftyone/open-images-v7/info.json'\n"
     ]
    },
    {
     "name": "stdout",
     "output_type": "stream",
     "text": [
      "Loading 'open-images-v7' split 'train'\n"
     ]
    },
    {
     "name": "stderr",
     "output_type": "stream",
     "text": [
      "INFO:fiftyone.zoo.datasets:Loading 'open-images-v7' split 'train'\n"
     ]
    },
    {
     "name": "stdout",
     "output_type": "stream",
     "text": [
      " 100% |█████████████████| 500/500 [4.5s elapsed, 0s remaining, 128.5 samples/s]      \n"
     ]
    },
    {
     "name": "stderr",
     "output_type": "stream",
     "text": [
      "INFO:eta.core.utils: 100% |█████████████████| 500/500 [4.5s elapsed, 0s remaining, 128.5 samples/s]      \n"
     ]
    },
    {
     "name": "stdout",
     "output_type": "stream",
     "text": [
      "Dataset 'open-images-v7-train-500' created\n"
     ]
    },
    {
     "name": "stderr",
     "output_type": "stream",
     "text": [
      "INFO:fiftyone.zoo.datasets:Dataset 'open-images-v7-train-500' created\n"
     ]
    },
    {
     "name": "stdout",
     "output_type": "stream",
     "text": [
      "   0% ||----------------|   0/500 [11.6ms elapsed, ? remaining, ? samples/s] "
     ]
    },
    {
     "name": "stderr",
     "output_type": "stream",
     "text": [
      "/usr/local/lib/python3.10/dist-packages/fiftyone/utils/yolo.py:993: UserWarning: Ignoring detection with label 'Building' not in provided classes\n",
      "  warnings.warn(msg)\n",
      "/usr/local/lib/python3.10/dist-packages/fiftyone/utils/yolo.py:993: UserWarning: Ignoring detection with label 'Taxi' not in provided classes\n",
      "  warnings.warn(msg)\n",
      "/usr/local/lib/python3.10/dist-packages/fiftyone/utils/yolo.py:993: UserWarning: Ignoring detection with label 'Woman' not in provided classes\n",
      "  warnings.warn(msg)\n",
      "/usr/local/lib/python3.10/dist-packages/fiftyone/utils/yolo.py:993: UserWarning: Ignoring detection with label 'Man' not in provided classes\n",
      "  warnings.warn(msg)\n",
      "/usr/local/lib/python3.10/dist-packages/fiftyone/utils/yolo.py:993: UserWarning: Ignoring detection with label 'Traffic light' not in provided classes\n",
      "  warnings.warn(msg)\n",
      "/usr/local/lib/python3.10/dist-packages/fiftyone/utils/yolo.py:993: UserWarning: Ignoring detection with label 'Bus' not in provided classes\n",
      "  warnings.warn(msg)\n",
      "/usr/local/lib/python3.10/dist-packages/fiftyone/utils/yolo.py:993: UserWarning: Ignoring detection with label 'Jeans' not in provided classes\n",
      "  warnings.warn(msg)\n",
      "/usr/local/lib/python3.10/dist-packages/fiftyone/utils/yolo.py:993: UserWarning: Ignoring detection with label 'Door' not in provided classes\n",
      "  warnings.warn(msg)\n",
      "/usr/local/lib/python3.10/dist-packages/fiftyone/utils/yolo.py:993: UserWarning: Ignoring detection with label 'Wheel' not in provided classes\n",
      "  warnings.warn(msg)\n",
      "/usr/local/lib/python3.10/dist-packages/fiftyone/utils/yolo.py:993: UserWarning: Ignoring detection with label 'Tire' not in provided classes\n",
      "  warnings.warn(msg)\n",
      "/usr/local/lib/python3.10/dist-packages/fiftyone/utils/yolo.py:993: UserWarning: Ignoring detection with label 'Person' not in provided classes\n",
      "  warnings.warn(msg)\n",
      "/usr/local/lib/python3.10/dist-packages/fiftyone/utils/yolo.py:993: UserWarning: Ignoring detection with label 'Vehicle registration plate' not in provided classes\n",
      "  warnings.warn(msg)\n",
      "/usr/local/lib/python3.10/dist-packages/fiftyone/utils/yolo.py:993: UserWarning: Ignoring detection with label 'House' not in provided classes\n",
      "  warnings.warn(msg)\n",
      "/usr/local/lib/python3.10/dist-packages/fiftyone/utils/yolo.py:993: UserWarning: Ignoring detection with label 'Window' not in provided classes\n",
      "  warnings.warn(msg)\n",
      "/usr/local/lib/python3.10/dist-packages/fiftyone/utils/yolo.py:993: UserWarning: Ignoring detection with label 'Carnivore' not in provided classes\n",
      "  warnings.warn(msg)\n",
      "/usr/local/lib/python3.10/dist-packages/fiftyone/utils/yolo.py:993: UserWarning: Ignoring detection with label 'Street light' not in provided classes\n",
      "  warnings.warn(msg)\n"
     ]
    },
    {
     "name": "stdout",
     "output_type": "stream",
     "text": [
      "   2% |/----------------|  11/500 [123.7ms elapsed, 5.5s remaining, 88.9 samples/s] "
     ]
    },
    {
     "name": "stderr",
     "output_type": "stream",
     "text": [
      "/usr/local/lib/python3.10/dist-packages/fiftyone/utils/yolo.py:993: UserWarning: Ignoring detection with label 'Stretcher' not in provided classes\n",
      "  warnings.warn(msg)\n",
      "/usr/local/lib/python3.10/dist-packages/fiftyone/utils/yolo.py:993: UserWarning: Ignoring detection with label 'Footwear' not in provided classes\n",
      "  warnings.warn(msg)\n",
      "/usr/local/lib/python3.10/dist-packages/fiftyone/utils/yolo.py:993: UserWarning: Ignoring detection with label 'Helmet' not in provided classes\n",
      "  warnings.warn(msg)\n",
      "/usr/local/lib/python3.10/dist-packages/fiftyone/utils/yolo.py:993: UserWarning: Ignoring detection with label 'Human face' not in provided classes\n",
      "  warnings.warn(msg)\n",
      "/usr/local/lib/python3.10/dist-packages/fiftyone/utils/yolo.py:993: UserWarning: Ignoring detection with label 'Toy' not in provided classes\n",
      "  warnings.warn(msg)\n",
      "/usr/local/lib/python3.10/dist-packages/fiftyone/utils/yolo.py:993: UserWarning: Ignoring detection with label 'Umbrella' not in provided classes\n",
      "  warnings.warn(msg)\n"
     ]
    },
    {
     "name": "stdout",
     "output_type": "stream",
     "text": [
      "\r",
      "                                                                                    \r"
     ]
    },
    {
     "name": "stderr",
     "output_type": "stream",
     "text": [
      "/usr/local/lib/python3.10/dist-packages/fiftyone/utils/yolo.py:993: UserWarning: Ignoring detection with label 'Truck' not in provided classes\n",
      "  warnings.warn(msg)\n",
      "/usr/local/lib/python3.10/dist-packages/fiftyone/utils/yolo.py:993: UserWarning: Ignoring detection with label 'Mammal' not in provided classes\n",
      "  warnings.warn(msg)\n",
      "/usr/local/lib/python3.10/dist-packages/fiftyone/utils/yolo.py:993: UserWarning: Ignoring detection with label 'Clothing' not in provided classes\n",
      "  warnings.warn(msg)\n",
      "/usr/local/lib/python3.10/dist-packages/fiftyone/utils/yolo.py:993: UserWarning: Ignoring detection with label 'Bed' not in provided classes\n",
      "  warnings.warn(msg)\n",
      "/usr/local/lib/python3.10/dist-packages/fiftyone/utils/yolo.py:993: UserWarning: Ignoring detection with label 'Tree' not in provided classes\n",
      "  warnings.warn(msg)\n"
     ]
    },
    {
     "name": "stdout",
     "output_type": "stream",
     "text": [
      "\r",
      "   6% |-----------------|  28/500 [229.5ms elapsed, 3.9s remaining, 122.0 samples/s] "
     ]
    },
    {
     "name": "stderr",
     "output_type": "stream",
     "text": [
      "/usr/local/lib/python3.10/dist-packages/fiftyone/utils/yolo.py:993: UserWarning: Ignoring detection with label 'Light bulb' not in provided classes\n",
      "  warnings.warn(msg)\n",
      "/usr/local/lib/python3.10/dist-packages/fiftyone/utils/yolo.py:993: UserWarning: Ignoring detection with label 'Drink' not in provided classes\n",
      "  warnings.warn(msg)\n"
     ]
    },
    {
     "name": "stdout",
     "output_type": "stream",
     "text": [
      "   8% |█\\---------------|  41/500 [330.9ms elapsed, 3.7s remaining, 123.9 samples/s] "
     ]
    },
    {
     "name": "stderr",
     "output_type": "stream",
     "text": [
      "/usr/local/lib/python3.10/dist-packages/fiftyone/utils/yolo.py:993: UserWarning: Ignoring detection with label 'Glasses' not in provided classes\n",
      "  warnings.warn(msg)\n",
      "/usr/local/lib/python3.10/dist-packages/fiftyone/utils/yolo.py:993: UserWarning: Ignoring detection with label 'Seat belt' not in provided classes\n",
      "  warnings.warn(msg)\n",
      "/usr/local/lib/python3.10/dist-packages/fiftyone/utils/yolo.py:993: UserWarning: Ignoring detection with label 'Poster' not in provided classes\n",
      "  warnings.warn(msg)\n"
     ]
    },
    {
     "name": "stdout",
     "output_type": "stream",
     "text": [
      "  11% |█|---------------|  55/500 [432.3ms elapsed, 3.5s remaining, 127.2 samples/s] "
     ]
    },
    {
     "name": "stderr",
     "output_type": "stream",
     "text": [
      "/usr/local/lib/python3.10/dist-packages/fiftyone/utils/yolo.py:993: UserWarning: Ignoring detection with label 'Bicycle' not in provided classes\n",
      "  warnings.warn(msg)\n",
      "/usr/local/lib/python3.10/dist-packages/fiftyone/utils/yolo.py:993: UserWarning: Ignoring detection with label 'Traffic sign' not in provided classes\n",
      "  warnings.warn(msg)\n",
      "/usr/local/lib/python3.10/dist-packages/fiftyone/utils/yolo.py:993: UserWarning: Ignoring detection with label 'Human leg' not in provided classes\n",
      "  warnings.warn(msg)\n",
      "/usr/local/lib/python3.10/dist-packages/fiftyone/utils/yolo.py:993: UserWarning: Ignoring detection with label 'Horse' not in provided classes\n",
      "  warnings.warn(msg)\n",
      "/usr/local/lib/python3.10/dist-packages/fiftyone/utils/yolo.py:993: UserWarning: Ignoring detection with label 'Human head' not in provided classes\n",
      "  warnings.warn(msg)\n",
      "/usr/local/lib/python3.10/dist-packages/fiftyone/utils/yolo.py:993: UserWarning: Ignoring detection with label 'Dress' not in provided classes\n",
      "  warnings.warn(msg)\n",
      "/usr/local/lib/python3.10/dist-packages/fiftyone/utils/yolo.py:993: UserWarning: Ignoring detection with label 'Human hair' not in provided classes\n",
      "  warnings.warn(msg)\n",
      "/usr/local/lib/python3.10/dist-packages/fiftyone/utils/yolo.py:993: UserWarning: Ignoring detection with label 'Girl' not in provided classes\n",
      "  warnings.warn(msg)\n",
      "/usr/local/lib/python3.10/dist-packages/fiftyone/utils/yolo.py:993: UserWarning: Ignoring detection with label 'Plant' not in provided classes\n",
      "  warnings.warn(msg)\n"
     ]
    },
    {
     "name": "stdout",
     "output_type": "stream",
     "text": [
      "  14% |██/--------------|  70/500 [535.2ms elapsed, 3.3s remaining, 130.8 samples/s] "
     ]
    },
    {
     "name": "stderr",
     "output_type": "stream",
     "text": [
      "/usr/local/lib/python3.10/dist-packages/fiftyone/utils/yolo.py:993: UserWarning: Ignoring detection with label 'Billboard' not in provided classes\n",
      "  warnings.warn(msg)\n",
      "/usr/local/lib/python3.10/dist-packages/fiftyone/utils/yolo.py:993: UserWarning: Ignoring detection with label 'Palm tree' not in provided classes\n",
      "  warnings.warn(msg)\n",
      "/usr/local/lib/python3.10/dist-packages/fiftyone/utils/yolo.py:993: UserWarning: Ignoring detection with label 'Mirror' not in provided classes\n",
      "  warnings.warn(msg)\n"
     ]
    },
    {
     "name": "stdout",
     "output_type": "stream",
     "text": [
      "  16% |██---------------|  81/500 [652.5ms elapsed, 3.4s remaining, 124.1 samples/s] "
     ]
    },
    {
     "name": "stderr",
     "output_type": "stream",
     "text": [
      "/usr/local/lib/python3.10/dist-packages/fiftyone/utils/yolo.py:993: UserWarning: Ignoring detection with label 'Tower' not in provided classes\n",
      "  warnings.warn(msg)\n",
      "/usr/local/lib/python3.10/dist-packages/fiftyone/utils/yolo.py:993: UserWarning: Ignoring detection with label 'Human eye' not in provided classes\n",
      "  warnings.warn(msg)\n",
      "/usr/local/lib/python3.10/dist-packages/fiftyone/utils/yolo.py:993: UserWarning: Ignoring detection with label 'Human mouth' not in provided classes\n",
      "  warnings.warn(msg)\n",
      "/usr/local/lib/python3.10/dist-packages/fiftyone/utils/yolo.py:993: UserWarning: Ignoring detection with label 'Human ear' not in provided classes\n",
      "  warnings.warn(msg)\n",
      "/usr/local/lib/python3.10/dist-packages/fiftyone/utils/yolo.py:993: UserWarning: Ignoring detection with label 'Human arm' not in provided classes\n",
      "  warnings.warn(msg)\n",
      "/usr/local/lib/python3.10/dist-packages/fiftyone/utils/yolo.py:993: UserWarning: Ignoring detection with label 'Human nose' not in provided classes\n",
      "  warnings.warn(msg)\n",
      "/usr/local/lib/python3.10/dist-packages/fiftyone/utils/yolo.py:993: UserWarning: Ignoring detection with label 'Human hand' not in provided classes\n",
      "  warnings.warn(msg)\n",
      "/usr/local/lib/python3.10/dist-packages/fiftyone/utils/yolo.py:993: UserWarning: Ignoring detection with label 'Sunglasses' not in provided classes\n",
      "  warnings.warn(msg)\n",
      "/usr/local/lib/python3.10/dist-packages/fiftyone/utils/yolo.py:993: UserWarning: Ignoring detection with label 'Goggles' not in provided classes\n",
      "  warnings.warn(msg)\n"
     ]
    },
    {
     "name": "stdout",
     "output_type": "stream",
     "text": [
      "  20% |███\\-------------|  98/500 [765.4ms elapsed, 3.1s remaining, 128.0 samples/s] "
     ]
    },
    {
     "name": "stderr",
     "output_type": "stream",
     "text": [
      "/usr/local/lib/python3.10/dist-packages/fiftyone/utils/yolo.py:993: UserWarning: Ignoring detection with label 'Chair' not in provided classes\n",
      "  warnings.warn(msg)\n",
      "/usr/local/lib/python3.10/dist-packages/fiftyone/utils/yolo.py:993: UserWarning: Ignoring detection with label 'Trousers' not in provided classes\n",
      "  warnings.warn(msg)\n",
      "/usr/local/lib/python3.10/dist-packages/fiftyone/utils/yolo.py:993: UserWarning: Ignoring detection with label 'Motorcycle' not in provided classes\n",
      "  warnings.warn(msg)\n",
      "/usr/local/lib/python3.10/dist-packages/fiftyone/utils/yolo.py:993: UserWarning: Ignoring detection with label 'Jacket' not in provided classes\n",
      "  warnings.warn(msg)\n"
     ]
    },
    {
     "name": "stdout",
     "output_type": "stream",
     "text": [
      "  26% |████/------------| 130/500 [967.5ms elapsed, 2.8s remaining, 134.4 samples/s] "
     ]
    },
    {
     "name": "stderr",
     "output_type": "stream",
     "text": [
      "/usr/local/lib/python3.10/dist-packages/fiftyone/utils/yolo.py:993: UserWarning: Ignoring detection with label 'Dog' not in provided classes\n",
      "  warnings.warn(msg)\n",
      "/usr/local/lib/python3.10/dist-packages/fiftyone/utils/yolo.py:993: UserWarning: Ignoring detection with label 'Tie' not in provided classes\n",
      "  warnings.warn(msg)\n",
      "/usr/local/lib/python3.10/dist-packages/fiftyone/utils/yolo.py:993: UserWarning: Ignoring detection with label 'Suit' not in provided classes\n",
      "  warnings.warn(msg)\n"
     ]
    },
    {
     "name": "stdout",
     "output_type": "stream",
     "text": [
      "  33% |█████\\-----------| 165/500 [1.2s elapsed, 2.4s remaining, 143.3 samples/s]    "
     ]
    },
    {
     "name": "stderr",
     "output_type": "stream",
     "text": [
      "/usr/local/lib/python3.10/dist-packages/fiftyone/utils/yolo.py:993: UserWarning: Ignoring detection with label 'Human body' not in provided classes\n",
      "  warnings.warn(msg)\n",
      "/usr/local/lib/python3.10/dist-packages/fiftyone/utils/yolo.py:993: UserWarning: Ignoring detection with label 'Bench' not in provided classes\n",
      "  warnings.warn(msg)\n",
      "/usr/local/lib/python3.10/dist-packages/fiftyone/utils/yolo.py:993: UserWarning: Ignoring detection with label 'Fire hydrant' not in provided classes\n",
      "  warnings.warn(msg)\n",
      "/usr/local/lib/python3.10/dist-packages/fiftyone/utils/yolo.py:993: UserWarning: Ignoring detection with label 'Cattle' not in provided classes\n",
      "  warnings.warn(msg)\n",
      "/usr/local/lib/python3.10/dist-packages/fiftyone/utils/yolo.py:993: UserWarning: Ignoring detection with label 'Bull' not in provided classes\n",
      "  warnings.warn(msg)\n"
     ]
    },
    {
     "name": "stdout",
     "output_type": "stream",
     "text": [
      "  36% |██████|----------| 179/500 [1.3s elapsed, 2.3s remaining, 143.8 samples/s]    "
     ]
    },
    {
     "name": "stderr",
     "output_type": "stream",
     "text": [
      "/usr/local/lib/python3.10/dist-packages/fiftyone/utils/yolo.py:993: UserWarning: Ignoring detection with label 'Human foot' not in provided classes\n",
      "  warnings.warn(msg)\n"
     ]
    },
    {
     "name": "stdout",
     "output_type": "stream",
     "text": [
      "  45% |███████|---------| 223/500 [1.7s elapsed, 2.1s remaining, 130.4 samples/s]    "
     ]
    },
    {
     "name": "stderr",
     "output_type": "stream",
     "text": [
      "/usr/local/lib/python3.10/dist-packages/fiftyone/utils/yolo.py:993: UserWarning: Ignoring detection with label 'Auto part' not in provided classes\n",
      "  warnings.warn(msg)\n",
      "/usr/local/lib/python3.10/dist-packages/fiftyone/utils/yolo.py:993: UserWarning: Ignoring detection with label 'Train' not in provided classes\n",
      "  warnings.warn(msg)\n",
      "/usr/local/lib/python3.10/dist-packages/fiftyone/utils/yolo.py:993: UserWarning: Ignoring detection with label 'Bicycle wheel' not in provided classes\n",
      "  warnings.warn(msg)\n",
      "/usr/local/lib/python3.10/dist-packages/fiftyone/utils/yolo.py:993: UserWarning: Ignoring detection with label 'Stop sign' not in provided classes\n",
      "  warnings.warn(msg)\n",
      "/usr/local/lib/python3.10/dist-packages/fiftyone/utils/yolo.py:993: UserWarning: Ignoring detection with label 'Sculpture' not in provided classes\n",
      "  warnings.warn(msg)\n",
      "/usr/local/lib/python3.10/dist-packages/fiftyone/utils/yolo.py:993: UserWarning: Ignoring detection with label 'Skyscraper' not in provided classes\n",
      "  warnings.warn(msg)\n"
     ]
    },
    {
     "name": "stdout",
     "output_type": "stream",
     "text": [
      "  49% |████████---------| 244/500 [1.9s elapsed, 2.1s remaining, 117.5 samples/s]    "
     ]
    },
    {
     "name": "stderr",
     "output_type": "stream",
     "text": [
      "/usr/local/lib/python3.10/dist-packages/fiftyone/utils/yolo.py:993: UserWarning: Ignoring detection with label 'Human beard' not in provided classes\n",
      "  warnings.warn(msg)\n",
      "/usr/local/lib/python3.10/dist-packages/fiftyone/utils/yolo.py:993: UserWarning: Ignoring detection with label 'Hat' not in provided classes\n",
      "  warnings.warn(msg)\n"
     ]
    },
    {
     "name": "stdout",
     "output_type": "stream",
     "text": [
      "  55% |█████████/-------| 277/500 [2.3s elapsed, 2.1s remaining, 96.3 samples/s]     "
     ]
    },
    {
     "name": "stderr",
     "output_type": "stream",
     "text": [
      "/usr/local/lib/python3.10/dist-packages/fiftyone/utils/yolo.py:993: UserWarning: Ignoring detection with label 'Mobile phone' not in provided classes\n",
      "  warnings.warn(msg)\n",
      "/usr/local/lib/python3.10/dist-packages/fiftyone/utils/yolo.py:993: UserWarning: Ignoring detection with label 'Tent' not in provided classes\n",
      "  warnings.warn(msg)\n"
     ]
    },
    {
     "name": "stdout",
     "output_type": "stream",
     "text": [
      "  66% |███████████------| 332/500 [2.9s elapsed, 1.7s remaining, 95.0 samples/s]     "
     ]
    },
    {
     "name": "stderr",
     "output_type": "stream",
     "text": [
      "/usr/local/lib/python3.10/dist-packages/fiftyone/utils/yolo.py:993: UserWarning: Ignoring detection with label 'Balloon' not in provided classes\n",
      "  warnings.warn(msg)\n",
      "/usr/local/lib/python3.10/dist-packages/fiftyone/utils/yolo.py:993: UserWarning: Ignoring detection with label 'Aircraft' not in provided classes\n",
      "  warnings.warn(msg)\n",
      "/usr/local/lib/python3.10/dist-packages/fiftyone/utils/yolo.py:993: UserWarning: Ignoring detection with label 'Porch' not in provided classes\n",
      "  warnings.warn(msg)\n"
     ]
    },
    {
     "name": "stdout",
     "output_type": "stream",
     "text": [
      "  74% |████████████/----| 372/500 [3.2s elapsed, 1.2s remaining, 108.8 samples/s]    "
     ]
    },
    {
     "name": "stderr",
     "output_type": "stream",
     "text": [
      "/usr/local/lib/python3.10/dist-packages/fiftyone/utils/yolo.py:993: UserWarning: Ignoring detection with label 'Flower' not in provided classes\n",
      "  warnings.warn(msg)\n",
      "/usr/local/lib/python3.10/dist-packages/fiftyone/utils/yolo.py:993: UserWarning: Ignoring detection with label 'Bicycle helmet' not in provided classes\n",
      "  warnings.warn(msg)\n",
      "/usr/local/lib/python3.10/dist-packages/fiftyone/utils/yolo.py:993: UserWarning: Ignoring detection with label 'Sun hat' not in provided classes\n",
      "  warnings.warn(msg)\n",
      "/usr/local/lib/python3.10/dist-packages/fiftyone/utils/yolo.py:993: UserWarning: Ignoring detection with label 'Fast food' not in provided classes\n",
      "  warnings.warn(msg)\n",
      "/usr/local/lib/python3.10/dist-packages/fiftyone/utils/yolo.py:993: UserWarning: Ignoring detection with label 'Boat' not in provided classes\n",
      "  warnings.warn(msg)\n"
     ]
    },
    {
     "name": "stdout",
     "output_type": "stream",
     "text": [
      "  81% |█████████████\\---| 404/500 [3.4s elapsed, 821.7ms remaining, 116.2 samples/s] "
     ]
    },
    {
     "name": "stderr",
     "output_type": "stream",
     "text": [
      "/usr/local/lib/python3.10/dist-packages/fiftyone/utils/yolo.py:993: UserWarning: Ignoring detection with label 'Miniskirt' not in provided classes\n",
      "  warnings.warn(msg)\n",
      "/usr/local/lib/python3.10/dist-packages/fiftyone/utils/yolo.py:993: UserWarning: Ignoring detection with label 'Musical instrument' not in provided classes\n",
      "  warnings.warn(msg)\n",
      "/usr/local/lib/python3.10/dist-packages/fiftyone/utils/yolo.py:993: UserWarning: Ignoring detection with label 'Weapon' not in provided classes\n",
      "  warnings.warn(msg)\n",
      "/usr/local/lib/python3.10/dist-packages/fiftyone/utils/yolo.py:993: UserWarning: Ignoring detection with label 'Sports uniform' not in provided classes\n",
      "  warnings.warn(msg)\n"
     ]
    },
    {
     "name": "stdout",
     "output_type": "stream",
     "text": [
      "  86% |██████████████/--| 430/500 [3.6s elapsed, 558.6ms remaining, 126.2 samples/s] "
     ]
    },
    {
     "name": "stderr",
     "output_type": "stream",
     "text": [
      "/usr/local/lib/python3.10/dist-packages/fiftyone/utils/yolo.py:993: UserWarning: Ignoring detection with label 'Segway' not in provided classes\n",
      "  warnings.warn(msg)\n",
      "/usr/local/lib/python3.10/dist-packages/fiftyone/utils/yolo.py:993: UserWarning: Ignoring detection with label 'Skateboard' not in provided classes\n",
      "  warnings.warn(msg)\n",
      "/usr/local/lib/python3.10/dist-packages/fiftyone/utils/yolo.py:993: UserWarning: Ignoring detection with label 'Fruit' not in provided classes\n",
      "  warnings.warn(msg)\n",
      "/usr/local/lib/python3.10/dist-packages/fiftyone/utils/yolo.py:993: UserWarning: Ignoring detection with label 'Vegetable' not in provided classes\n",
      "  warnings.warn(msg)\n"
     ]
    },
    {
     "name": "stdout",
     "output_type": "stream",
     "text": [
      "  96% |████████████████|| 478/500 [3.9s elapsed, 161.8ms remaining, 136.7 samples/s] "
     ]
    },
    {
     "name": "stderr",
     "output_type": "stream",
     "text": [
      "/usr/local/lib/python3.10/dist-packages/fiftyone/utils/yolo.py:993: UserWarning: Ignoring detection with label 'Flag' not in provided classes\n",
      "  warnings.warn(msg)\n",
      "/usr/local/lib/python3.10/dist-packages/fiftyone/utils/yolo.py:993: UserWarning: Ignoring detection with label 'Parrot' not in provided classes\n",
      "  warnings.warn(msg)\n",
      "/usr/local/lib/python3.10/dist-packages/fiftyone/utils/yolo.py:993: UserWarning: Ignoring detection with label 'Flowerpot' not in provided classes\n",
      "  warnings.warn(msg)\n",
      "/usr/local/lib/python3.10/dist-packages/fiftyone/utils/yolo.py:993: UserWarning: Ignoring detection with label 'Boy' not in provided classes\n",
      "  warnings.warn(msg)\n",
      "/usr/local/lib/python3.10/dist-packages/fiftyone/utils/yolo.py:993: UserWarning: Ignoring detection with label 'Backpack' not in provided classes\n",
      "  warnings.warn(msg)\n"
     ]
    },
    {
     "name": "stdout",
     "output_type": "stream",
     "text": [
      " 100% |█████████████████| 500/500 [4.1s elapsed, 0s remaining, 136.5 samples/s]      \n"
     ]
    },
    {
     "name": "stderr",
     "output_type": "stream",
     "text": [
      "/usr/local/lib/python3.10/dist-packages/fiftyone/utils/yolo.py:993: UserWarning: Ignoring detection with label 'Cat' not in provided classes\n",
      "  warnings.warn(msg)\n",
      "INFO:eta.core.utils: 100% |█████████████████| 500/500 [4.1s elapsed, 0s remaining, 136.5 samples/s]      \n"
     ]
    },
    {
     "name": "stdout",
     "output_type": "stream",
     "text": [
      "Downloading split 'test' to '/root/fiftyone/open-images-v7/test' if necessary\n"
     ]
    },
    {
     "name": "stderr",
     "output_type": "stream",
     "text": [
      "INFO:fiftyone.zoo.datasets:Downloading split 'test' to '/root/fiftyone/open-images-v7/test' if necessary\n"
     ]
    },
    {
     "name": "stdout",
     "output_type": "stream",
     "text": [
      "Downloading 'https://storage.googleapis.com/openimages/2018_04/test/test-images-with-rotation.csv' to '/root/fiftyone/open-images-v7/test/metadata/image_ids.csv'\n"
     ]
    },
    {
     "name": "stderr",
     "output_type": "stream",
     "text": [
      "INFO:fiftyone.utils.openimages:Downloading 'https://storage.googleapis.com/openimages/2018_04/test/test-images-with-rotation.csv' to '/root/fiftyone/open-images-v7/test/metadata/image_ids.csv'\n"
     ]
    },
    {
     "name": "stdout",
     "output_type": "stream",
     "text": [
      "Downloading 'https://storage.googleapis.com/openimages/v5/class-descriptions-boxable.csv' to '/root/fiftyone/open-images-v7/test/metadata/classes.csv'\n"
     ]
    },
    {
     "name": "stderr",
     "output_type": "stream",
     "text": [
      "INFO:fiftyone.utils.openimages:Downloading 'https://storage.googleapis.com/openimages/v5/class-descriptions-boxable.csv' to '/root/fiftyone/open-images-v7/test/metadata/classes.csv'\n"
     ]
    },
    {
     "name": "stdout",
     "output_type": "stream",
     "text": [
      "Downloading 'https://storage.googleapis.com/openimages/2018_04/bbox_labels_600_hierarchy.json' to '/tmp/tmpntsv7dts/metadata/hierarchy.json'\n"
     ]
    },
    {
     "name": "stderr",
     "output_type": "stream",
     "text": [
      "INFO:fiftyone.utils.openimages:Downloading 'https://storage.googleapis.com/openimages/2018_04/bbox_labels_600_hierarchy.json' to '/tmp/tmpntsv7dts/metadata/hierarchy.json'\n"
     ]
    },
    {
     "name": "stdout",
     "output_type": "stream",
     "text": [
      "Downloading 'https://storage.googleapis.com/openimages/v5/test-annotations-bbox.csv' to '/root/fiftyone/open-images-v7/test/labels/detections.csv'\n"
     ]
    },
    {
     "name": "stderr",
     "output_type": "stream",
     "text": [
      "INFO:fiftyone.utils.openimages:Downloading 'https://storage.googleapis.com/openimages/v5/test-annotations-bbox.csv' to '/root/fiftyone/open-images-v7/test/labels/detections.csv'\n"
     ]
    },
    {
     "name": "stdout",
     "output_type": "stream",
     "text": [
      "Downloading 500 images\n"
     ]
    },
    {
     "name": "stderr",
     "output_type": "stream",
     "text": [
      "INFO:fiftyone.utils.openimages:Downloading 500 images\n"
     ]
    },
    {
     "name": "stdout",
     "output_type": "stream",
     "text": [
      " 100% |███████████████████| 500/500 [40.0s elapsed, 0s remaining, 13.1 files/s]      \n"
     ]
    },
    {
     "name": "stderr",
     "output_type": "stream",
     "text": [
      "INFO:eta.core.utils: 100% |███████████████████| 500/500 [40.0s elapsed, 0s remaining, 13.1 files/s]      \n"
     ]
    },
    {
     "name": "stdout",
     "output_type": "stream",
     "text": [
      "Dataset info written to '/root/fiftyone/open-images-v7/info.json'\n"
     ]
    },
    {
     "name": "stderr",
     "output_type": "stream",
     "text": [
      "INFO:fiftyone.zoo.datasets:Dataset info written to '/root/fiftyone/open-images-v7/info.json'\n"
     ]
    },
    {
     "name": "stdout",
     "output_type": "stream",
     "text": [
      "Loading 'open-images-v7' split 'test'\n"
     ]
    },
    {
     "name": "stderr",
     "output_type": "stream",
     "text": [
      "INFO:fiftyone.zoo.datasets:Loading 'open-images-v7' split 'test'\n"
     ]
    },
    {
     "name": "stdout",
     "output_type": "stream",
     "text": [
      " 100% |█████████████████| 500/500 [6.4s elapsed, 0s remaining, 59.6 samples/s]      \n"
     ]
    },
    {
     "name": "stderr",
     "output_type": "stream",
     "text": [
      "INFO:eta.core.utils: 100% |█████████████████| 500/500 [6.4s elapsed, 0s remaining, 59.6 samples/s]      \n"
     ]
    },
    {
     "name": "stdout",
     "output_type": "stream",
     "text": [
      "Dataset 'open-images-v7-test-500' created\n"
     ]
    },
    {
     "name": "stderr",
     "output_type": "stream",
     "text": [
      "INFO:fiftyone.zoo.datasets:Dataset 'open-images-v7-test-500' created\n"
     ]
    },
    {
     "name": "stdout",
     "output_type": "stream",
     "text": [
      "Directory 'data/Car' already exists; export will be merged with existing files\n"
     ]
    },
    {
     "name": "stderr",
     "output_type": "stream",
     "text": [
      "WARNING:fiftyone.core.collections:Directory 'data/Car' already exists; export will be merged with existing files\n"
     ]
    },
    {
     "name": "stdout",
     "output_type": "stream",
     "text": [
      "   0% ||----------------|   0/500 [19.4ms elapsed, ? remaining, ? samples/s] "
     ]
    },
    {
     "name": "stderr",
     "output_type": "stream",
     "text": [
      "/usr/local/lib/python3.10/dist-packages/fiftyone/utils/yolo.py:993: UserWarning: Ignoring detection with label 'Vehicle' not in provided classes\n",
      "  warnings.warn(msg)\n",
      "/usr/local/lib/python3.10/dist-packages/fiftyone/utils/yolo.py:993: UserWarning: Ignoring detection with label 'Land vehicle' not in provided classes\n",
      "  warnings.warn(msg)\n",
      "/usr/local/lib/python3.10/dist-packages/fiftyone/utils/yolo.py:993: UserWarning: Ignoring detection with label 'Tire' not in provided classes\n",
      "  warnings.warn(msg)\n",
      "/usr/local/lib/python3.10/dist-packages/fiftyone/utils/yolo.py:993: UserWarning: Ignoring detection with label 'Wheel' not in provided classes\n",
      "  warnings.warn(msg)\n",
      "/usr/local/lib/python3.10/dist-packages/fiftyone/utils/yolo.py:993: UserWarning: Ignoring detection with label 'Tree' not in provided classes\n",
      "  warnings.warn(msg)\n",
      "/usr/local/lib/python3.10/dist-packages/fiftyone/utils/yolo.py:993: UserWarning: Ignoring detection with label 'Building' not in provided classes\n",
      "  warnings.warn(msg)\n",
      "/usr/local/lib/python3.10/dist-packages/fiftyone/utils/yolo.py:993: UserWarning: Ignoring detection with label 'Vehicle registration plate' not in provided classes\n",
      "  warnings.warn(msg)\n"
     ]
    },
    {
     "name": "stdout",
     "output_type": "stream",
     "text": [
      "   2% |/----------------|  12/500 [126.8ms elapsed, 5.2s remaining, 94.6 samples/s] "
     ]
    },
    {
     "name": "stderr",
     "output_type": "stream",
     "text": [
      "/usr/local/lib/python3.10/dist-packages/fiftyone/utils/yolo.py:993: UserWarning: Ignoring detection with label 'Waste container' not in provided classes\n",
      "  warnings.warn(msg)\n",
      "/usr/local/lib/python3.10/dist-packages/fiftyone/utils/yolo.py:993: UserWarning: Ignoring detection with label 'Auto part' not in provided classes\n",
      "  warnings.warn(msg)\n",
      "/usr/local/lib/python3.10/dist-packages/fiftyone/utils/yolo.py:993: UserWarning: Ignoring detection with label 'Person' not in provided classes\n",
      "  warnings.warn(msg)\n",
      "/usr/local/lib/python3.10/dist-packages/fiftyone/utils/yolo.py:993: UserWarning: Ignoring detection with label 'Clothing' not in provided classes\n",
      "  warnings.warn(msg)\n",
      "/usr/local/lib/python3.10/dist-packages/fiftyone/utils/yolo.py:993: UserWarning: Ignoring detection with label 'Human body' not in provided classes\n",
      "  warnings.warn(msg)\n",
      "/usr/local/lib/python3.10/dist-packages/fiftyone/utils/yolo.py:993: UserWarning: Ignoring detection with label 'Dog' not in provided classes\n",
      "  warnings.warn(msg)\n",
      "/usr/local/lib/python3.10/dist-packages/fiftyone/utils/yolo.py:993: UserWarning: Ignoring detection with label 'Van' not in provided classes\n",
      "  warnings.warn(msg)\n"
     ]
    },
    {
     "name": "stdout",
     "output_type": "stream",
     "text": [
      "   5% |-----------------|  23/500 [230.0ms elapsed, 4.8s remaining, 100.0 samples/s] "
     ]
    },
    {
     "name": "stderr",
     "output_type": "stream",
     "text": [
      "/usr/local/lib/python3.10/dist-packages/fiftyone/utils/yolo.py:993: UserWarning: Ignoring detection with label 'Mammal' not in provided classes\n",
      "  warnings.warn(msg)\n"
     ]
    },
    {
     "name": "stdout",
     "output_type": "stream",
     "text": [
      "   7% |█\\---------------|  33/500 [338.0ms elapsed, 4.8s remaining, 97.6 samples/s]  "
     ]
    },
    {
     "name": "stderr",
     "output_type": "stream",
     "text": [
      "/usr/local/lib/python3.10/dist-packages/fiftyone/utils/yolo.py:993: UserWarning: Ignoring detection with label 'Bicycle' not in provided classes\n",
      "  warnings.warn(msg)\n",
      "/usr/local/lib/python3.10/dist-packages/fiftyone/utils/yolo.py:993: UserWarning: Ignoring detection with label 'Man' not in provided classes\n",
      "  warnings.warn(msg)\n",
      "/usr/local/lib/python3.10/dist-packages/fiftyone/utils/yolo.py:993: UserWarning: Ignoring detection with label 'Window' not in provided classes\n",
      "  warnings.warn(msg)\n",
      "/usr/local/lib/python3.10/dist-packages/fiftyone/utils/yolo.py:993: UserWarning: Ignoring detection with label 'Sports equipment' not in provided classes\n",
      "  warnings.warn(msg)\n",
      "/usr/local/lib/python3.10/dist-packages/fiftyone/utils/yolo.py:993: UserWarning: Ignoring detection with label 'Tank' not in provided classes\n",
      "  warnings.warn(msg)\n",
      "/usr/local/lib/python3.10/dist-packages/fiftyone/utils/yolo.py:993: UserWarning: Ignoring detection with label 'Weapon' not in provided classes\n",
      "  warnings.warn(msg)\n",
      "/usr/local/lib/python3.10/dist-packages/fiftyone/utils/yolo.py:993: UserWarning: Ignoring detection with label 'Toy' not in provided classes\n",
      "  warnings.warn(msg)\n",
      "/usr/local/lib/python3.10/dist-packages/fiftyone/utils/yolo.py:993: UserWarning: Ignoring detection with label 'Human arm' not in provided classes\n",
      "  warnings.warn(msg)\n"
     ]
    },
    {
     "name": "stdout",
     "output_type": "stream",
     "text": [
      "   8% |█|---------------|  41/500 [478.0ms elapsed, 5.4s remaining, 85.8 samples/s]  "
     ]
    },
    {
     "name": "stderr",
     "output_type": "stream",
     "text": [
      "/usr/local/lib/python3.10/dist-packages/fiftyone/utils/yolo.py:993: UserWarning: Ignoring detection with label 'Human hair' not in provided classes\n",
      "  warnings.warn(msg)\n",
      "/usr/local/lib/python3.10/dist-packages/fiftyone/utils/yolo.py:993: UserWarning: Ignoring detection with label 'Human leg' not in provided classes\n",
      "  warnings.warn(msg)\n",
      "/usr/local/lib/python3.10/dist-packages/fiftyone/utils/yolo.py:993: UserWarning: Ignoring detection with label 'Jeans' not in provided classes\n",
      "  warnings.warn(msg)\n",
      "/usr/local/lib/python3.10/dist-packages/fiftyone/utils/yolo.py:993: UserWarning: Ignoring detection with label 'Footwear' not in provided classes\n",
      "  warnings.warn(msg)\n"
     ]
    },
    {
     "name": "stdout",
     "output_type": "stream",
     "text": [
      "  10% |█/---------------|  48/500 [578.0ms elapsed, 5.4s remaining, 83.0 samples/s]  "
     ]
    },
    {
     "name": "stderr",
     "output_type": "stream",
     "text": [
      "/usr/local/lib/python3.10/dist-packages/fiftyone/utils/yolo.py:993: UserWarning: Ignoring detection with label 'Human hand' not in provided classes\n",
      "  warnings.warn(msg)\n",
      "/usr/local/lib/python3.10/dist-packages/fiftyone/utils/yolo.py:993: UserWarning: Ignoring detection with label 'Helmet' not in provided classes\n",
      "  warnings.warn(msg)\n"
     ]
    },
    {
     "name": "stdout",
     "output_type": "stream",
     "text": [
      "  11% |█----------------|  57/500 [680.5ms elapsed, 5.3s remaining, 83.8 samples/s]  "
     ]
    },
    {
     "name": "stderr",
     "output_type": "stream",
     "text": [
      "/usr/local/lib/python3.10/dist-packages/fiftyone/utils/yolo.py:993: UserWarning: Ignoring detection with label 'Mobile phone' not in provided classes\n",
      "  warnings.warn(msg)\n",
      "/usr/local/lib/python3.10/dist-packages/fiftyone/utils/yolo.py:993: UserWarning: Ignoring detection with label 'Motorcycle' not in provided classes\n",
      "  warnings.warn(msg)\n",
      "/usr/local/lib/python3.10/dist-packages/fiftyone/utils/yolo.py:993: UserWarning: Ignoring detection with label 'Oven' not in provided classes\n",
      "  warnings.warn(msg)\n",
      "/usr/local/lib/python3.10/dist-packages/fiftyone/utils/yolo.py:993: UserWarning: Ignoring detection with label 'Snack' not in provided classes\n",
      "  warnings.warn(msg)\n",
      "/usr/local/lib/python3.10/dist-packages/fiftyone/utils/yolo.py:993: UserWarning: Ignoring detection with label 'Fast food' not in provided classes\n",
      "  warnings.warn(msg)\n"
     ]
    },
    {
     "name": "stdout",
     "output_type": "stream",
     "text": [
      "  13% |██\\--------------|  67/500 [783.4ms elapsed, 5.1s remaining, 85.5 samples/s]  "
     ]
    },
    {
     "name": "stderr",
     "output_type": "stream",
     "text": [
      "/usr/local/lib/python3.10/dist-packages/fiftyone/utils/yolo.py:993: UserWarning: Ignoring detection with label 'Plant' not in provided classes\n",
      "  warnings.warn(msg)\n",
      "/usr/local/lib/python3.10/dist-packages/fiftyone/utils/yolo.py:993: UserWarning: Ignoring detection with label 'Furniture' not in provided classes\n",
      "  warnings.warn(msg)\n",
      "/usr/local/lib/python3.10/dist-packages/fiftyone/utils/yolo.py:993: UserWarning: Ignoring detection with label 'Table' not in provided classes\n",
      "  warnings.warn(msg)\n",
      "/usr/local/lib/python3.10/dist-packages/fiftyone/utils/yolo.py:993: UserWarning: Ignoring detection with label 'Kitchen & dining room table' not in provided classes\n",
      "  warnings.warn(msg)\n",
      "/usr/local/lib/python3.10/dist-packages/fiftyone/utils/yolo.py:993: UserWarning: Ignoring detection with label 'Human face' not in provided classes\n",
      "  warnings.warn(msg)\n",
      "/usr/local/lib/python3.10/dist-packages/fiftyone/utils/yolo.py:993: UserWarning: Ignoring detection with label 'Human nose' not in provided classes\n",
      "  warnings.warn(msg)\n",
      "/usr/local/lib/python3.10/dist-packages/fiftyone/utils/yolo.py:993: UserWarning: Ignoring detection with label 'Human head' not in provided classes\n",
      "  warnings.warn(msg)\n",
      "/usr/local/lib/python3.10/dist-packages/fiftyone/utils/yolo.py:993: UserWarning: Ignoring detection with label 'Human eye' not in provided classes\n",
      "  warnings.warn(msg)\n",
      "/usr/local/lib/python3.10/dist-packages/fiftyone/utils/yolo.py:993: UserWarning: Ignoring detection with label 'Human mouth' not in provided classes\n",
      "  warnings.warn(msg)\n",
      "/usr/local/lib/python3.10/dist-packages/fiftyone/utils/yolo.py:993: UserWarning: Ignoring detection with label 'Airplane' not in provided classes\n",
      "  warnings.warn(msg)\n"
     ]
    },
    {
     "name": "stdout",
     "output_type": "stream",
     "text": [
      "  15% |██|--------------|  73/500 [889.8ms elapsed, 5.2s remaining, 82.0 samples/s]  "
     ]
    },
    {
     "name": "stderr",
     "output_type": "stream",
     "text": [
      "/usr/local/lib/python3.10/dist-packages/fiftyone/utils/yolo.py:993: UserWarning: Ignoring detection with label 'Coffee' not in provided classes\n",
      "  warnings.warn(msg)\n",
      "/usr/local/lib/python3.10/dist-packages/fiftyone/utils/yolo.py:993: UserWarning: Ignoring detection with label 'Saucer' not in provided classes\n",
      "  warnings.warn(msg)\n",
      "/usr/local/lib/python3.10/dist-packages/fiftyone/utils/yolo.py:993: UserWarning: Ignoring detection with label 'Coffee cup' not in provided classes\n",
      "  warnings.warn(msg)\n"
     ]
    },
    {
     "name": "stdout",
     "output_type": "stream",
     "text": [
      "  20% |███--------------| 101/500 [1.1s elapsed, 4.4s remaining, 89.6 samples/s]     "
     ]
    },
    {
     "name": "stderr",
     "output_type": "stream",
     "text": [
      "/usr/local/lib/python3.10/dist-packages/fiftyone/utils/yolo.py:993: UserWarning: Ignoring detection with label 'Girl' not in provided classes\n",
      "  warnings.warn(msg)\n",
      "/usr/local/lib/python3.10/dist-packages/fiftyone/utils/yolo.py:993: UserWarning: Ignoring detection with label 'Woman' not in provided classes\n",
      "  warnings.warn(msg)\n"
     ]
    },
    {
     "name": "stdout",
     "output_type": "stream",
     "text": [
      "  23% |███\\-------------| 117/500 [1.2s elapsed, 4.0s remaining, 94.8 samples/s]     "
     ]
    },
    {
     "name": "stderr",
     "output_type": "stream",
     "text": [
      "/usr/local/lib/python3.10/dist-packages/fiftyone/utils/yolo.py:993: UserWarning: Ignoring detection with label 'Truck' not in provided classes\n",
      "  warnings.warn(msg)\n",
      "/usr/local/lib/python3.10/dist-packages/fiftyone/utils/yolo.py:993: UserWarning: Ignoring detection with label 'Coat' not in provided classes\n",
      "  warnings.warn(msg)\n"
     ]
    },
    {
     "name": "stdout",
     "output_type": "stream",
     "text": [
      "  30% |█████------------| 149/500 [1.6s elapsed, 3.6s remaining, 102.5 samples/s]    "
     ]
    },
    {
     "name": "stderr",
     "output_type": "stream",
     "text": [
      "/usr/local/lib/python3.10/dist-packages/fiftyone/utils/yolo.py:993: UserWarning: Ignoring detection with label 'Taxi' not in provided classes\n",
      "  warnings.warn(msg)\n",
      "/usr/local/lib/python3.10/dist-packages/fiftyone/utils/yolo.py:993: UserWarning: Ignoring detection with label 'Ambulance' not in provided classes\n",
      "  warnings.warn(msg)\n"
     ]
    },
    {
     "name": "stdout",
     "output_type": "stream",
     "text": [
      "  34% |█████|-----------| 170/500 [1.8s elapsed, 3.3s remaining, 104.7 samples/s]    "
     ]
    },
    {
     "name": "stderr",
     "output_type": "stream",
     "text": [
      "/usr/local/lib/python3.10/dist-packages/fiftyone/utils/yolo.py:993: UserWarning: Ignoring detection with label 'Jacket' not in provided classes\n",
      "  warnings.warn(msg)\n",
      "/usr/local/lib/python3.10/dist-packages/fiftyone/utils/yolo.py:993: UserWarning: Ignoring detection with label 'Boy' not in provided classes\n",
      "  warnings.warn(msg)\n"
     ]
    },
    {
     "name": "stdout",
     "output_type": "stream",
     "text": [
      "  42% |███████|---------| 209/500 [2.2s elapsed, 3.1s remaining, 93.3 samples/s]     "
     ]
    },
    {
     "name": "stderr",
     "output_type": "stream",
     "text": [
      "/usr/local/lib/python3.10/dist-packages/fiftyone/utils/yolo.py:993: UserWarning: Ignoring detection with label 'House' not in provided classes\n",
      "  warnings.warn(msg)\n",
      "/usr/local/lib/python3.10/dist-packages/fiftyone/utils/yolo.py:993: UserWarning: Ignoring detection with label 'Trousers' not in provided classes\n",
      "  warnings.warn(msg)\n",
      "/usr/local/lib/python3.10/dist-packages/fiftyone/utils/yolo.py:993: UserWarning: Ignoring detection with label 'Bus' not in provided classes\n",
      "  warnings.warn(msg)\n"
     ]
    },
    {
     "name": "stdout",
     "output_type": "stream",
     "text": [
      "  59% |██████████-------| 295/500 [2.8s elapsed, 1.9s remaining, 115.9 samples/s]    "
     ]
    },
    {
     "name": "stderr",
     "output_type": "stream",
     "text": [
      "/usr/local/lib/python3.10/dist-packages/fiftyone/utils/yolo.py:993: UserWarning: Ignoring detection with label 'Snowplow' not in provided classes\n",
      "  warnings.warn(msg)\n"
     ]
    },
    {
     "name": "stdout",
     "output_type": "stream",
     "text": []
    },
    {
     "name": "stderr",
     "output_type": "stream",
     "text": [
      "/usr/local/lib/python3.10/dist-packages/fiftyone/utils/yolo.py:993: UserWarning: Ignoring detection with label 'Helicopter' not in provided classes\n",
      "  warnings.warn(msg)\n"
     ]
    },
    {
     "name": "stdout",
     "output_type": "stream",
     "text": [
      "  73% |████████████|----| 367/500 [3.5s elapsed, 1.2s remaining, 119.7 samples/s]    "
     ]
    },
    {
     "name": "stderr",
     "output_type": "stream",
     "text": [
      "/usr/local/lib/python3.10/dist-packages/fiftyone/utils/yolo.py:993: UserWarning: Ignoring detection with label 'Camera' not in provided classes\n",
      "  warnings.warn(msg)\n",
      "/usr/local/lib/python3.10/dist-packages/fiftyone/utils/yolo.py:993: UserWarning: Ignoring detection with label 'Dress' not in provided classes\n",
      "  warnings.warn(msg)\n",
      "/usr/local/lib/python3.10/dist-packages/fiftyone/utils/yolo.py:993: UserWarning: Ignoring detection with label 'Suit' not in provided classes\n",
      "  warnings.warn(msg)\n",
      "/usr/local/lib/python3.10/dist-packages/fiftyone/utils/yolo.py:993: UserWarning: Ignoring detection with label 'Fashion accessory' not in provided classes\n",
      "  warnings.warn(msg)\n",
      "/usr/local/lib/python3.10/dist-packages/fiftyone/utils/yolo.py:993: UserWarning: Ignoring detection with label 'Flower' not in provided classes\n",
      "  warnings.warn(msg)\n"
     ]
    },
    {
     "name": "stdout",
     "output_type": "stream",
     "text": [
      "  80% |█████████████\\---| 398/500 [3.8s elapsed, 967.7ms remaining, 105.7 samples/s] "
     ]
    },
    {
     "name": "stderr",
     "output_type": "stream",
     "text": [
      "/usr/local/lib/python3.10/dist-packages/fiftyone/utils/yolo.py:993: UserWarning: Ignoring detection with label 'Office building' not in provided classes\n",
      "  warnings.warn(msg)\n"
     ]
    },
    {
     "name": "stdout",
     "output_type": "stream",
     "text": [
      "  86% |██████████████---| 430/500 [4.1s elapsed, 713.4ms remaining, 97.2 samples/s]  "
     ]
    },
    {
     "name": "stderr",
     "output_type": "stream",
     "text": [
      "/usr/local/lib/python3.10/dist-packages/fiftyone/utils/yolo.py:993: UserWarning: Ignoring detection with label 'Door' not in provided classes\n",
      "  warnings.warn(msg)\n"
     ]
    },
    {
     "name": "stdout",
     "output_type": "stream",
     "text": [
      "  98% |████████████████|| 490/500 [4.7s elapsed, 100.6ms remaining, 99.4 samples/s]  "
     ]
    },
    {
     "name": "stderr",
     "output_type": "stream",
     "text": [
      "/usr/local/lib/python3.10/dist-packages/fiftyone/utils/yolo.py:993: UserWarning: Ignoring detection with label 'Bicycle wheel' not in provided classes\n",
      "  warnings.warn(msg)\n",
      "/usr/local/lib/python3.10/dist-packages/fiftyone/utils/yolo.py:993: UserWarning: Ignoring detection with label 'Skyscraper' not in provided classes\n",
      "  warnings.warn(msg)\n"
     ]
    },
    {
     "name": "stdout",
     "output_type": "stream",
     "text": [
      " 100% |█████████████████| 500/500 [4.8s elapsed, 0s remaining, 102.0 samples/s]      \n"
     ]
    },
    {
     "name": "stderr",
     "output_type": "stream",
     "text": [
      "/usr/local/lib/python3.10/dist-packages/fiftyone/utils/yolo.py:993: UserWarning: Ignoring detection with label 'Flowerpot' not in provided classes\n",
      "  warnings.warn(msg)\n",
      "INFO:eta.core.utils: 100% |█████████████████| 500/500 [4.8s elapsed, 0s remaining, 102.0 samples/s]      \n"
     ]
    },
    {
     "name": "stdout",
     "output_type": "stream",
     "text": [
      "Downloading split 'validation' to '/root/fiftyone/open-images-v7/validation' if necessary\n"
     ]
    },
    {
     "name": "stderr",
     "output_type": "stream",
     "text": [
      "INFO:fiftyone.zoo.datasets:Downloading split 'validation' to '/root/fiftyone/open-images-v7/validation' if necessary\n"
     ]
    },
    {
     "name": "stdout",
     "output_type": "stream",
     "text": [
      "Downloading 'https://storage.googleapis.com/openimages/2018_04/validation/validation-images-with-rotation.csv' to '/root/fiftyone/open-images-v7/validation/metadata/image_ids.csv'\n"
     ]
    },
    {
     "name": "stderr",
     "output_type": "stream",
     "text": [
      "INFO:fiftyone.utils.openimages:Downloading 'https://storage.googleapis.com/openimages/2018_04/validation/validation-images-with-rotation.csv' to '/root/fiftyone/open-images-v7/validation/metadata/image_ids.csv'\n"
     ]
    },
    {
     "name": "stdout",
     "output_type": "stream",
     "text": [
      "Downloading 'https://storage.googleapis.com/openimages/v5/class-descriptions-boxable.csv' to '/root/fiftyone/open-images-v7/validation/metadata/classes.csv'\n"
     ]
    },
    {
     "name": "stderr",
     "output_type": "stream",
     "text": [
      "INFO:fiftyone.utils.openimages:Downloading 'https://storage.googleapis.com/openimages/v5/class-descriptions-boxable.csv' to '/root/fiftyone/open-images-v7/validation/metadata/classes.csv'\n"
     ]
    },
    {
     "name": "stdout",
     "output_type": "stream",
     "text": [
      "Downloading 'https://storage.googleapis.com/openimages/2018_04/bbox_labels_600_hierarchy.json' to '/tmp/tmp3fojsg52/metadata/hierarchy.json'\n"
     ]
    },
    {
     "name": "stderr",
     "output_type": "stream",
     "text": [
      "INFO:fiftyone.utils.openimages:Downloading 'https://storage.googleapis.com/openimages/2018_04/bbox_labels_600_hierarchy.json' to '/tmp/tmp3fojsg52/metadata/hierarchy.json'\n"
     ]
    },
    {
     "name": "stdout",
     "output_type": "stream",
     "text": [
      "Downloading 'https://storage.googleapis.com/openimages/v5/validation-annotations-bbox.csv' to '/root/fiftyone/open-images-v7/validation/labels/detections.csv'\n"
     ]
    },
    {
     "name": "stderr",
     "output_type": "stream",
     "text": [
      "INFO:fiftyone.utils.openimages:Downloading 'https://storage.googleapis.com/openimages/v5/validation-annotations-bbox.csv' to '/root/fiftyone/open-images-v7/validation/labels/detections.csv'\n"
     ]
    },
    {
     "name": "stdout",
     "output_type": "stream",
     "text": [
      "Downloading 500 images\n"
     ]
    },
    {
     "name": "stderr",
     "output_type": "stream",
     "text": [
      "INFO:fiftyone.utils.openimages:Downloading 500 images\n"
     ]
    },
    {
     "name": "stdout",
     "output_type": "stream",
     "text": [
      " 100% |███████████████████| 500/500 [38.2s elapsed, 0s remaining, 12.3 files/s]      \n"
     ]
    },
    {
     "name": "stderr",
     "output_type": "stream",
     "text": [
      "INFO:eta.core.utils: 100% |███████████████████| 500/500 [38.2s elapsed, 0s remaining, 12.3 files/s]      \n"
     ]
    },
    {
     "name": "stdout",
     "output_type": "stream",
     "text": [
      "Dataset info written to '/root/fiftyone/open-images-v7/info.json'\n"
     ]
    },
    {
     "name": "stderr",
     "output_type": "stream",
     "text": [
      "INFO:fiftyone.zoo.datasets:Dataset info written to '/root/fiftyone/open-images-v7/info.json'\n"
     ]
    },
    {
     "name": "stdout",
     "output_type": "stream",
     "text": [
      "Loading 'open-images-v7' split 'validation'\n"
     ]
    },
    {
     "name": "stderr",
     "output_type": "stream",
     "text": [
      "INFO:fiftyone.zoo.datasets:Loading 'open-images-v7' split 'validation'\n"
     ]
    },
    {
     "name": "stdout",
     "output_type": "stream",
     "text": [
      " 100% |█████████████████| 500/500 [5.2s elapsed, 0s remaining, 99.9 samples/s]       \n"
     ]
    },
    {
     "name": "stderr",
     "output_type": "stream",
     "text": [
      "INFO:eta.core.utils: 100% |█████████████████| 500/500 [5.2s elapsed, 0s remaining, 99.9 samples/s]       \n"
     ]
    },
    {
     "name": "stdout",
     "output_type": "stream",
     "text": [
      "Dataset 'open-images-v7-validation-500' created\n"
     ]
    },
    {
     "name": "stderr",
     "output_type": "stream",
     "text": [
      "INFO:fiftyone.zoo.datasets:Dataset 'open-images-v7-validation-500' created\n"
     ]
    },
    {
     "name": "stdout",
     "output_type": "stream",
     "text": [
      "Directory 'data/Car' already exists; export will be merged with existing files\n"
     ]
    },
    {
     "name": "stderr",
     "output_type": "stream",
     "text": [
      "WARNING:fiftyone.core.collections:Directory 'data/Car' already exists; export will be merged with existing files\n"
     ]
    },
    {
     "name": "stdout",
     "output_type": "stream",
     "text": [
      "   4% |/----------------|  19/500 [111.2ms elapsed, 2.8s remaining, 170.9 samples/s] "
     ]
    },
    {
     "name": "stderr",
     "output_type": "stream",
     "text": [
      "/usr/local/lib/python3.10/dist-packages/fiftyone/utils/yolo.py:993: UserWarning: Ignoring detection with label 'Wheel' not in provided classes\n",
      "  warnings.warn(msg)\n",
      "/usr/local/lib/python3.10/dist-packages/fiftyone/utils/yolo.py:993: UserWarning: Ignoring detection with label 'Person' not in provided classes\n",
      "  warnings.warn(msg)\n",
      "/usr/local/lib/python3.10/dist-packages/fiftyone/utils/yolo.py:993: UserWarning: Ignoring detection with label 'Human body' not in provided classes\n",
      "  warnings.warn(msg)\n",
      "/usr/local/lib/python3.10/dist-packages/fiftyone/utils/yolo.py:993: UserWarning: Ignoring detection with label 'Auto part' not in provided classes\n",
      "  warnings.warn(msg)\n",
      "/usr/local/lib/python3.10/dist-packages/fiftyone/utils/yolo.py:993: UserWarning: Ignoring detection with label 'Tire' not in provided classes\n",
      "  warnings.warn(msg)\n",
      "/usr/local/lib/python3.10/dist-packages/fiftyone/utils/yolo.py:993: UserWarning: Ignoring detection with label 'Land vehicle' not in provided classes\n",
      "  warnings.warn(msg)\n",
      "/usr/local/lib/python3.10/dist-packages/fiftyone/utils/yolo.py:993: UserWarning: Ignoring detection with label 'Vehicle' not in provided classes\n",
      "  warnings.warn(msg)\n",
      "/usr/local/lib/python3.10/dist-packages/fiftyone/utils/yolo.py:993: UserWarning: Ignoring detection with label 'Vehicle registration plate' not in provided classes\n",
      "  warnings.warn(msg)\n",
      "/usr/local/lib/python3.10/dist-packages/fiftyone/utils/yolo.py:993: UserWarning: Ignoring detection with label 'Plant' not in provided classes\n",
      "  warnings.warn(msg)\n",
      "/usr/local/lib/python3.10/dist-packages/fiftyone/utils/yolo.py:993: UserWarning: Ignoring detection with label 'Tree' not in provided classes\n",
      "  warnings.warn(msg)\n",
      "/usr/local/lib/python3.10/dist-packages/fiftyone/utils/yolo.py:993: UserWarning: Ignoring detection with label 'Clothing' not in provided classes\n",
      "  warnings.warn(msg)\n",
      "/usr/local/lib/python3.10/dist-packages/fiftyone/utils/yolo.py:993: UserWarning: Ignoring detection with label 'Boy' not in provided classes\n",
      "  warnings.warn(msg)\n",
      "/usr/local/lib/python3.10/dist-packages/fiftyone/utils/yolo.py:993: UserWarning: Ignoring detection with label 'Man' not in provided classes\n",
      "  warnings.warn(msg)\n",
      "/usr/local/lib/python3.10/dist-packages/fiftyone/utils/yolo.py:993: UserWarning: Ignoring detection with label 'Toy' not in provided classes\n",
      "  warnings.warn(msg)\n",
      "/usr/local/lib/python3.10/dist-packages/fiftyone/utils/yolo.py:993: UserWarning: Ignoring detection with label 'Mammal' not in provided classes\n",
      "  warnings.warn(msg)\n",
      "/usr/local/lib/python3.10/dist-packages/fiftyone/utils/yolo.py:993: UserWarning: Ignoring detection with label 'Van' not in provided classes\n",
      "  warnings.warn(msg)\n",
      "/usr/local/lib/python3.10/dist-packages/fiftyone/utils/yolo.py:993: UserWarning: Ignoring detection with label 'Human hair' not in provided classes\n",
      "  warnings.warn(msg)\n",
      "/usr/local/lib/python3.10/dist-packages/fiftyone/utils/yolo.py:993: UserWarning: Ignoring detection with label 'Building' not in provided classes\n",
      "  warnings.warn(msg)\n",
      "/usr/local/lib/python3.10/dist-packages/fiftyone/utils/yolo.py:993: UserWarning: Ignoring detection with label 'Jeans' not in provided classes\n",
      "  warnings.warn(msg)\n",
      "/usr/local/lib/python3.10/dist-packages/fiftyone/utils/yolo.py:993: UserWarning: Ignoring detection with label 'Footwear' not in provided classes\n",
      "  warnings.warn(msg)\n"
     ]
    },
    {
     "name": "stdout",
     "output_type": "stream",
     "text": [
      "  11% |█\\---------------|  56/500 [317.2ms elapsed, 2.5s remaining, 176.5 samples/s] "
     ]
    },
    {
     "name": "stderr",
     "output_type": "stream",
     "text": [
      "/usr/local/lib/python3.10/dist-packages/fiftyone/utils/yolo.py:993: UserWarning: Ignoring detection with label 'Watercraft' not in provided classes\n",
      "  warnings.warn(msg)\n",
      "/usr/local/lib/python3.10/dist-packages/fiftyone/utils/yolo.py:993: UserWarning: Ignoring detection with label 'Boat' not in provided classes\n",
      "  warnings.warn(msg)\n",
      "/usr/local/lib/python3.10/dist-packages/fiftyone/utils/yolo.py:993: UserWarning: Ignoring detection with label 'Woman' not in provided classes\n",
      "  warnings.warn(msg)\n",
      "/usr/local/lib/python3.10/dist-packages/fiftyone/utils/yolo.py:993: UserWarning: Ignoring detection with label 'Human face' not in provided classes\n",
      "  warnings.warn(msg)\n",
      "/usr/local/lib/python3.10/dist-packages/fiftyone/utils/yolo.py:993: UserWarning: Ignoring detection with label 'Human head' not in provided classes\n",
      "  warnings.warn(msg)\n",
      "/usr/local/lib/python3.10/dist-packages/fiftyone/utils/yolo.py:993: UserWarning: Ignoring detection with label 'Window' not in provided classes\n",
      "  warnings.warn(msg)\n",
      "/usr/local/lib/python3.10/dist-packages/fiftyone/utils/yolo.py:993: UserWarning: Ignoring detection with label 'Truck' not in provided classes\n",
      "  warnings.warn(msg)\n",
      "/usr/local/lib/python3.10/dist-packages/fiftyone/utils/yolo.py:993: UserWarning: Ignoring detection with label 'Human nose' not in provided classes\n",
      "  warnings.warn(msg)\n",
      "/usr/local/lib/python3.10/dist-packages/fiftyone/utils/yolo.py:993: UserWarning: Ignoring detection with label 'Human arm' not in provided classes\n",
      "  warnings.warn(msg)\n",
      "/usr/local/lib/python3.10/dist-packages/fiftyone/utils/yolo.py:993: UserWarning: Ignoring detection with label 'Bicycle' not in provided classes\n",
      "  warnings.warn(msg)\n",
      "/usr/local/lib/python3.10/dist-packages/fiftyone/utils/yolo.py:993: UserWarning: Ignoring detection with label 'Human leg' not in provided classes\n",
      "  warnings.warn(msg)\n",
      "/usr/local/lib/python3.10/dist-packages/fiftyone/utils/yolo.py:993: UserWarning: Ignoring detection with label 'Bicycle wheel' not in provided classes\n",
      "  warnings.warn(msg)\n"
     ]
    },
    {
     "name": "stdout",
     "output_type": "stream",
     "text": [
      "  16% |██|--------------|  80/500 [419.7ms elapsed, 2.2s remaining, 190.6 samples/s] "
     ]
    },
    {
     "name": "stderr",
     "output_type": "stream",
     "text": [
      "/usr/local/lib/python3.10/dist-packages/fiftyone/utils/yolo.py:993: UserWarning: Ignoring detection with label 'Digital clock' not in provided classes\n",
      "  warnings.warn(msg)\n",
      "/usr/local/lib/python3.10/dist-packages/fiftyone/utils/yolo.py:993: UserWarning: Ignoring detection with label 'Billboard' not in provided classes\n",
      "  warnings.warn(msg)\n",
      "/usr/local/lib/python3.10/dist-packages/fiftyone/utils/yolo.py:993: UserWarning: Ignoring detection with label 'Palm tree' not in provided classes\n",
      "  warnings.warn(msg)\n"
     ]
    },
    {
     "name": "stdout",
     "output_type": "stream",
     "text": [
      "  27% |████\\------------| 136/500 [935.5ms elapsed, 2.5s remaining, 145.4 samples/s] "
     ]
    },
    {
     "name": "stderr",
     "output_type": "stream",
     "text": [
      "/usr/local/lib/python3.10/dist-packages/fiftyone/utils/yolo.py:993: UserWarning: Ignoring detection with label 'House' not in provided classes\n",
      "  warnings.warn(msg)\n",
      "/usr/local/lib/python3.10/dist-packages/fiftyone/utils/yolo.py:993: UserWarning: Ignoring detection with label 'Suit' not in provided classes\n",
      "  warnings.warn(msg)\n",
      "/usr/local/lib/python3.10/dist-packages/fiftyone/utils/yolo.py:993: UserWarning: Ignoring detection with label 'Fashion accessory' not in provided classes\n",
      "  warnings.warn(msg)\n",
      "/usr/local/lib/python3.10/dist-packages/fiftyone/utils/yolo.py:993: UserWarning: Ignoring detection with label 'Girl' not in provided classes\n",
      "  warnings.warn(msg)\n",
      "/usr/local/lib/python3.10/dist-packages/fiftyone/utils/yolo.py:993: UserWarning: Ignoring detection with label 'Human mouth' not in provided classes\n",
      "  warnings.warn(msg)\n"
     ]
    },
    {
     "name": "stdout",
     "output_type": "stream",
     "text": [
      "  41% |██████-----------| 204/500 [1.3s elapsed, 1.8s remaining, 160.6 samples/s]    "
     ]
    },
    {
     "name": "stderr",
     "output_type": "stream",
     "text": [
      "/usr/local/lib/python3.10/dist-packages/fiftyone/utils/yolo.py:993: UserWarning: Ignoring detection with label 'Helmet' not in provided classes\n",
      "  warnings.warn(msg)\n",
      "/usr/local/lib/python3.10/dist-packages/fiftyone/utils/yolo.py:993: UserWarning: Ignoring detection with label 'Snowplow' not in provided classes\n",
      "  warnings.warn(msg)\n",
      "/usr/local/lib/python3.10/dist-packages/fiftyone/utils/yolo.py:993: UserWarning: Ignoring detection with label 'Dog' not in provided classes\n",
      "  warnings.warn(msg)\n"
     ]
    },
    {
     "name": "stdout",
     "output_type": "stream",
     "text": [
      "  52% |████████/--------| 259/500 [1.6s elapsed, 1.5s remaining, 153.9 samples/s]    "
     ]
    },
    {
     "name": "stderr",
     "output_type": "stream",
     "text": [
      "/usr/local/lib/python3.10/dist-packages/fiftyone/utils/yolo.py:993: UserWarning: Ignoring detection with label 'Fire hydrant' not in provided classes\n",
      "  warnings.warn(msg)\n",
      "/usr/local/lib/python3.10/dist-packages/fiftyone/utils/yolo.py:993: UserWarning: Ignoring detection with label 'Tent' not in provided classes\n",
      "  warnings.warn(msg)\n",
      "/usr/local/lib/python3.10/dist-packages/fiftyone/utils/yolo.py:993: UserWarning: Ignoring detection with label 'Dress' not in provided classes\n",
      "  warnings.warn(msg)\n",
      "/usr/local/lib/python3.10/dist-packages/fiftyone/utils/yolo.py:993: UserWarning: Ignoring detection with label 'Flower' not in provided classes\n",
      "  warnings.warn(msg)\n"
     ]
    },
    {
     "name": "stdout",
     "output_type": "stream",
     "text": [
      "  67% |███████████/-----| 334/500 [2.0s elapsed, 919.3ms remaining, 187.9 samples/s] "
     ]
    },
    {
     "name": "stderr",
     "output_type": "stream",
     "text": [
      "/usr/local/lib/python3.10/dist-packages/fiftyone/utils/yolo.py:993: UserWarning: Ignoring detection with label 'Poster' not in provided classes\n",
      "  warnings.warn(msg)\n",
      "/usr/local/lib/python3.10/dist-packages/fiftyone/utils/yolo.py:993: UserWarning: Ignoring detection with label 'Flag' not in provided classes\n",
      "  warnings.warn(msg)\n"
     ]
    },
    {
     "name": "stdout",
     "output_type": "stream",
     "text": [
      "  79% |█████████████|---| 397/500 [2.3s elapsed, 567.9ms remaining, 183.9 samples/s] "
     ]
    },
    {
     "name": "stderr",
     "output_type": "stream",
     "text": [
      "/usr/local/lib/python3.10/dist-packages/fiftyone/utils/yolo.py:993: UserWarning: Ignoring detection with label 'Taxi' not in provided classes\n",
      "  warnings.warn(msg)\n",
      "/usr/local/lib/python3.10/dist-packages/fiftyone/utils/yolo.py:993: UserWarning: Ignoring detection with label 'Mirror' not in provided classes\n",
      "  warnings.warn(msg)\n",
      "/usr/local/lib/python3.10/dist-packages/fiftyone/utils/yolo.py:993: UserWarning: Ignoring detection with label 'Houseplant' not in provided classes\n",
      "  warnings.warn(msg)\n",
      "/usr/local/lib/python3.10/dist-packages/fiftyone/utils/yolo.py:993: UserWarning: Ignoring detection with label 'Porch' not in provided classes\n",
      "  warnings.warn(msg)\n",
      "/usr/local/lib/python3.10/dist-packages/fiftyone/utils/yolo.py:993: UserWarning: Ignoring detection with label 'Door' not in provided classes\n",
      "  warnings.warn(msg)\n"
     ]
    },
    {
     "name": "stdout",
     "output_type": "stream",
     "text": [
      "  86% |██████████████---| 431/500 [2.5s elapsed, 378.9ms remaining, 184.0 samples/s] "
     ]
    },
    {
     "name": "stderr",
     "output_type": "stream",
     "text": [
      "/usr/local/lib/python3.10/dist-packages/fiftyone/utils/yolo.py:993: UserWarning: Ignoring detection with label 'Human foot' not in provided classes\n",
      "  warnings.warn(msg)\n",
      "/usr/local/lib/python3.10/dist-packages/fiftyone/utils/yolo.py:993: UserWarning: Ignoring detection with label 'Human eye' not in provided classes\n",
      "  warnings.warn(msg)\n",
      "/usr/local/lib/python3.10/dist-packages/fiftyone/utils/yolo.py:993: UserWarning: Ignoring detection with label 'Sculpture' not in provided classes\n",
      "  warnings.warn(msg)\n"
     ]
    },
    {
     "name": "stdout",
     "output_type": "stream",
     "text": [
      "  98% |████████████████/| 488/500 [2.8s elapsed, 66.5ms remaining, 180.7 samples/s]  "
     ]
    },
    {
     "name": "stderr",
     "output_type": "stream",
     "text": [
      "/usr/local/lib/python3.10/dist-packages/fiftyone/utils/yolo.py:993: UserWarning: Ignoring detection with label 'Human hand' not in provided classes\n",
      "  warnings.warn(msg)\n",
      "/usr/local/lib/python3.10/dist-packages/fiftyone/utils/yolo.py:993: UserWarning: Ignoring detection with label 'Motorcycle' not in provided classes\n",
      "  warnings.warn(msg)\n",
      "/usr/local/lib/python3.10/dist-packages/fiftyone/utils/yolo.py:993: UserWarning: Ignoring detection with label 'Accordion' not in provided classes\n",
      "  warnings.warn(msg)\n"
     ]
    },
    {
     "name": "stdout",
     "output_type": "stream",
     "text": [
      " 100% |█████████████████| 500/500 [2.9s elapsed, 0s remaining, 183.7 samples/s]      \n"
     ]
    },
    {
     "name": "stderr",
     "output_type": "stream",
     "text": [
      "INFO:eta.core.utils: 100% |█████████████████| 500/500 [2.9s elapsed, 0s remaining, 183.7 samples/s]      \n"
     ]
    }
   ],
   "source": [
    "# TRAIN\n",
    "\n",
    "dataset = foz.load_zoo_dataset(\n",
    "    \"open-images-v7\",\n",
    "    split=\"train\", #to take all the splits\n",
    "    label_types=[\"detections\"],\n",
    "    classes = [\"Car\"],\n",
    "    max_samples=500,\n",
    ")\n",
    "\n",
    "# YOLOv5 format supports splits, so let's grab only the `validation` split\n",
    "# view = dataset.match_tags(\"validation\")\n",
    "\n",
    "# Export images and ground truth labels to disk\n",
    "dataset.export(\n",
    "    export_dir=\"data/Car\",\n",
    "    dataset_type=fo.types.YOLOv5Dataset,\n",
    "    split=\"train\",\n",
    "    label_field=\"ground_truth\",\n",
    "    classes=[\"Car\"],\n",
    ")\n",
    "\n",
    "# TEST\n",
    "\n",
    "dataset = foz.load_zoo_dataset(\n",
    "    \"open-images-v7\",\n",
    "    split=\"test\", #to take all the splits\n",
    "    label_types=[\"detections\"],\n",
    "    classes = [\"Car\"],\n",
    "    max_samples=500,\n",
    ")\n",
    "\n",
    "# YOLOv5 format supports splits, so let's grab only the `validation` split\n",
    "# view = dataset.match_tags(\"validation\")\n",
    "\n",
    "# Export images and ground truth labels to disk\n",
    "dataset.export(\n",
    "    export_dir=\"data/Car\",\n",
    "    dataset_type=fo.types.YOLOv5Dataset,\n",
    "    split=\"test\",\n",
    "    label_field=\"ground_truth\",\n",
    "    classes=[\"Car\"],\n",
    ")\n",
    "\n",
    "# VALIDATION\n",
    "\n",
    "dataset = foz.load_zoo_dataset(\n",
    "    \"open-images-v7\",\n",
    "    split=\"validation\", #to take all the splits\n",
    "    label_types=[\"detections\"],\n",
    "    classes = [\"Car\"],\n",
    "    max_samples=500,\n",
    ")\n",
    "\n",
    "# YOLOv5 format supports splits, so let's grab only the `validation` split\n",
    "# view = dataset.match_tags(\"validation\")\n",
    "\n",
    "# Export images and ground truth labels to disk\n",
    "dataset.export(\n",
    "    export_dir=\"data/Car\",\n",
    "    dataset_type=fo.types.YOLOv5Dataset,\n",
    "    split=\"validation\",\n",
    "    label_field=\"ground_truth\",\n",
    "    classes=[\"Car\"],\n",
    ")"
   ]
  },
  {
   "cell_type": "code",
   "execution_count": null,
   "metadata": {
    "id": "gZx40lSY54Wq"
   },
   "outputs": [],
   "source": [
    "!pip install ultralytics==8.0.0"
   ]
  },
  {
   "cell_type": "code",
   "execution_count": null,
   "metadata": {
    "id": "atcDlK7f6FXD"
   },
   "outputs": [],
   "source": [
    "from ultralytics import YOLO"
   ]
  },
  {
   "cell_type": "code",
   "execution_count": null,
   "metadata": {
    "id": "5C2A2Khr6zDW"
   },
   "outputs": [],
   "source": [
    "!echo 'val: ./images/validation/' >> data/Car/dataset.yaml"
   ]
  },
  {
   "cell_type": "code",
   "execution_count": 9,
   "metadata": {
    "colab": {
     "base_uri": "https://localhost:8080/"
    },
    "id": "O611gkqK6N5i",
    "outputId": "355129e3-e57f-465f-c4cc-988ceb861554"
   },
   "outputs": [
    {
     "name": "stderr",
     "output_type": "stream",
     "text": [
      "\n",
      "                   from  n    params  module                                       arguments                     \n",
      "  0                  -1  1       464  ultralytics.nn.modules.Conv                  [3, 16, 3, 2]                 \n",
      "  1                  -1  1      4672  ultralytics.nn.modules.Conv                  [16, 32, 3, 2]                \n",
      "  2                  -1  1      7360  ultralytics.nn.modules.C2f                   [32, 32, 1, True]             \n",
      "  3                  -1  1     18560  ultralytics.nn.modules.Conv                  [32, 64, 3, 2]                \n",
      "  4                  -1  2     49664  ultralytics.nn.modules.C2f                   [64, 64, 2, True]             \n",
      "  5                  -1  1     73984  ultralytics.nn.modules.Conv                  [64, 128, 3, 2]               \n",
      "  6                  -1  2    197632  ultralytics.nn.modules.C2f                   [128, 128, 2, True]           \n",
      "  7                  -1  1    295424  ultralytics.nn.modules.Conv                  [128, 256, 3, 2]              \n",
      "  8                  -1  1    460288  ultralytics.nn.modules.C2f                   [256, 256, 1, True]           \n",
      "  9                  -1  1    164608  ultralytics.nn.modules.SPPF                  [256, 256, 5]                 \n",
      " 10                  -1  1         0  torch.nn.modules.upsampling.Upsample         [None, 2, 'nearest']          \n",
      " 11             [-1, 6]  1         0  ultralytics.nn.modules.Concat                [1]                           \n",
      " 12                  -1  1    148224  ultralytics.nn.modules.C2f                   [384, 128, 1]                 \n",
      " 13                  -1  1         0  torch.nn.modules.upsampling.Upsample         [None, 2, 'nearest']          \n",
      " 14             [-1, 4]  1         0  ultralytics.nn.modules.Concat                [1]                           \n",
      " 15                  -1  1     37248  ultralytics.nn.modules.C2f                   [192, 64, 1]                  \n",
      " 16                  -1  1     36992  ultralytics.nn.modules.Conv                  [64, 64, 3, 2]                \n",
      " 17            [-1, 12]  1         0  ultralytics.nn.modules.Concat                [1]                           \n",
      " 18                  -1  1    123648  ultralytics.nn.modules.C2f                   [192, 128, 1]                 \n",
      " 19                  -1  1    147712  ultralytics.nn.modules.Conv                  [128, 128, 3, 2]              \n",
      " 20             [-1, 9]  1         0  ultralytics.nn.modules.Concat                [1]                           \n",
      " 21                  -1  1    493056  ultralytics.nn.modules.C2f                   [384, 256, 1]                 \n",
      " 22        [15, 18, 21]  1    897664  ultralytics.nn.modules.Detect                [80, [64, 128, 256]]          \n",
      "YOLOv8n summary: 225 layers, 3157200 parameters, 3157184 gradients, 8.9 GFLOPs\n",
      "\n",
      "\u001b[34m\u001b[1myolo/engine/trainer: \u001b[0mtask=detect, mode=train, model=None, data=data/Car/dataset.yaml, epochs=60, patience=50, batch=16, imgsz=640, save=True, cache=False, device=None, workers=8, project=None, name=None, exist_ok=False, pretrained=False, optimizer=SGD, verbose=False, seed=0, deterministic=True, single_cls=False, image_weights=False, rect=False, cos_lr=False, close_mosaic=10, resume=False, overlap_mask=True, mask_ratio=4, dropout=0.0, val=True, save_json=False, save_hybrid=False, conf=None, iou=0.7, max_det=300, half=False, dnn=False, plots=True, source=None, show=False, save_txt=False, save_conf=False, save_crop=False, hide_labels=False, hide_conf=False, vid_stride=1, line_thickness=3, visualize=False, augment=False, agnostic_nms=False, retina_masks=False, format=torchscript, keras=False, optimize=False, int8=False, dynamic=False, simplify=False, opset=17, workspace=4, nms=False, lr0=0.01, lrf=0.01, momentum=0.937, weight_decay=0.0005, warmup_epochs=3.0, warmup_momentum=0.8, warmup_bias_lr=0.1, box=7.5, cls=0.5, dfl=1.5, fl_gamma=0.0, label_smoothing=0.0, nbs=64, hsv_h=0.015, hsv_s=0.7, hsv_v=0.4, degrees=0.0, translate=0.1, scale=0.5, shear=0.0, perspective=0.0, flipud=0.0, fliplr=0.5, mosaic=1.0, mixup=0.0, copy_paste=0.0, hydra={'output_subdir': None, 'run': {'dir': '.'}}, v5loader=False, save_dir=runs/detect/train\n",
      "Ultralytics YOLOv8.0.0 🚀 Python-3.10.12 torch-2.1.0+cu121 CPU\n",
      "Downloading https://ultralytics.com/assets/Arial.ttf to /root/.config/Ultralytics/Arial.ttf...\n",
      "100%|██████████| 755k/755k [00:00<00:00, 15.6MB/s]\n",
      "Overriding model.yaml nc=80 with nc=1\n",
      "\n",
      "                   from  n    params  module                                       arguments                     \n",
      "  0                  -1  1       464  ultralytics.nn.modules.Conv                  [3, 16, 3, 2]                 \n",
      "  1                  -1  1      4672  ultralytics.nn.modules.Conv                  [16, 32, 3, 2]                \n",
      "  2                  -1  1      7360  ultralytics.nn.modules.C2f                   [32, 32, 1, True]             \n",
      "  3                  -1  1     18560  ultralytics.nn.modules.Conv                  [32, 64, 3, 2]                \n",
      "  4                  -1  2     49664  ultralytics.nn.modules.C2f                   [64, 64, 2, True]             \n",
      "  5                  -1  1     73984  ultralytics.nn.modules.Conv                  [64, 128, 3, 2]               \n",
      "  6                  -1  2    197632  ultralytics.nn.modules.C2f                   [128, 128, 2, True]           \n",
      "  7                  -1  1    295424  ultralytics.nn.modules.Conv                  [128, 256, 3, 2]              \n",
      "  8                  -1  1    460288  ultralytics.nn.modules.C2f                   [256, 256, 1, True]           \n",
      "  9                  -1  1    164608  ultralytics.nn.modules.SPPF                  [256, 256, 5]                 \n",
      " 10                  -1  1         0  torch.nn.modules.upsampling.Upsample         [None, 2, 'nearest']          \n",
      " 11             [-1, 6]  1         0  ultralytics.nn.modules.Concat                [1]                           \n",
      " 12                  -1  1    148224  ultralytics.nn.modules.C2f                   [384, 128, 1]                 \n",
      " 13                  -1  1         0  torch.nn.modules.upsampling.Upsample         [None, 2, 'nearest']          \n",
      " 14             [-1, 4]  1         0  ultralytics.nn.modules.Concat                [1]                           \n",
      " 15                  -1  1     37248  ultralytics.nn.modules.C2f                   [192, 64, 1]                  \n",
      " 16                  -1  1     36992  ultralytics.nn.modules.Conv                  [64, 64, 3, 2]                \n",
      " 17            [-1, 12]  1         0  ultralytics.nn.modules.Concat                [1]                           \n",
      " 18                  -1  1    123648  ultralytics.nn.modules.C2f                   [192, 128, 1]                 \n",
      " 19                  -1  1    147712  ultralytics.nn.modules.Conv                  [128, 128, 3, 2]              \n",
      " 20             [-1, 9]  1         0  ultralytics.nn.modules.Concat                [1]                           \n",
      " 21                  -1  1    493056  ultralytics.nn.modules.C2f                   [384, 256, 1]                 \n",
      " 22        [15, 18, 21]  1    751507  ultralytics.nn.modules.Detect                [1, [64, 128, 256]]           \n",
      "YOLOv8n summary: 225 layers, 3011043 parameters, 3011027 gradients, 8.2 GFLOPs\n",
      "\n",
      "\u001b[34m\u001b[1moptimizer:\u001b[0m SGD(lr=0.01) with parameter groups 57 weight(decay=0.0), 64 weight(decay=0.0005), 63 bias\n",
      "\u001b[34m\u001b[1mtrain: \u001b[0mScanning /content/data/Car/labels/train... 500 images, 0 backgrounds, 0 corrupt: 100%|██████████| 500/500 [00:00<00:00, 712.26it/s]\n",
      "Signal received. 15 <frame at 0x786921595300, file '/usr/lib/python3.10/weakref.py', line 465, code items>\n",
      "\u001b[34m\u001b[1mtrain: \u001b[0mNew cache created: /content/data/Car/labels/train.cache\n",
      "\u001b[34m\u001b[1malbumentations: \u001b[0mBlur(p=0.01, blur_limit=(3, 7)), MedianBlur(p=0.01, blur_limit=(3, 7)), ToGray(p=0.01), CLAHE(p=0.01, clip_limit=(1, 4.0), tile_grid_size=(8, 8))\n",
      "\u001b[34m\u001b[1mval: \u001b[0mScanning /content/data/Car/labels/validation... 500 images, 0 backgrounds, 0 corrupt: 100%|██████████| 500/500 [00:00<00:00, 733.67it/s]Signal received. 15 <frame at 0x7869211da3e0, file '/usr/lib/python3.10/weakref.py', line 467, code items>\n",
      "\n",
      "\u001b[34m\u001b[1mval: \u001b[0mNew cache created: /content/data/Car/labels/validation.cache\n",
      "Image sizes 640 train, 640 val\n",
      "Using 0 dataloader workers\n",
      "Logging results to \u001b[1mruns/detect/train\u001b[0m\n",
      "Starting training for 60 epochs...\n",
      "\n",
      "      Epoch    GPU_mem   box_loss   cls_loss   dfl_loss  Instances       Size\n",
      "       1/60         0G      3.562       3.67      4.257         10        640: 100%|██████████| 32/32 [07:59<00:00, 14.97s/it]\n",
      "                 Class     Images  Instances      Box(P          R      mAP50  mAP50-95): 100%|██████████| 16/16 [02:16<00:00,  8.54s/it]\n",
      "                   all        500        947    0.00395      0.625     0.0227    0.00759\n",
      "\n",
      "      Epoch    GPU_mem   box_loss   cls_loss   dfl_loss  Instances       Size\n",
      "       2/60         0G      3.578       3.58      4.182         21        640: 100%|██████████| 32/32 [07:55<00:00, 14.85s/it]\n",
      "                 Class     Images  Instances      Box(P          R      mAP50  mAP50-95): 100%|██████████| 16/16 [02:13<00:00,  8.36s/it]\n",
      "                   all        500        947    0.00409      0.647     0.0311    0.00988\n",
      "\n",
      "      Epoch    GPU_mem   box_loss   cls_loss   dfl_loss  Instances       Size\n",
      "       3/60         0G      3.576      3.545      4.092         26        640: 100%|██████████| 32/32 [07:49<00:00, 14.67s/it]\n",
      "                 Class     Images  Instances      Box(P          R      mAP50  mAP50-95): 100%|██████████| 16/16 [02:14<00:00,  8.39s/it]\n",
      "                   all        500        947    0.00403      0.639     0.0329    0.00975\n",
      "\n",
      "      Epoch    GPU_mem   box_loss   cls_loss   dfl_loss  Instances       Size\n",
      "       4/60         0G      3.417      3.406       3.96         20        640: 100%|██████████| 32/32 [07:49<00:00, 14.67s/it]\n",
      "                 Class     Images  Instances      Box(P          R      mAP50  mAP50-95): 100%|██████████| 16/16 [02:03<00:00,  7.73s/it]\n",
      "                   all        500        947    0.00414      0.649     0.0113    0.00399\n",
      "\n",
      "      Epoch    GPU_mem   box_loss   cls_loss   dfl_loss  Instances       Size\n",
      "       5/60         0G      3.257      3.344       3.74         25        640: 100%|██████████| 32/32 [07:50<00:00, 14.69s/it]\n",
      "                 Class     Images  Instances      Box(P          R      mAP50  mAP50-95): 100%|██████████| 16/16 [02:10<00:00,  8.16s/it]\n",
      "                   all        500        947     0.0362      0.315     0.0276    0.00853\n",
      "\n",
      "      Epoch    GPU_mem   box_loss   cls_loss   dfl_loss  Instances       Size\n",
      "       6/60         0G      3.136      3.209      3.568         24        640: 100%|██████████| 32/32 [07:50<00:00, 14.72s/it]\n",
      "                 Class     Images  Instances      Box(P          R      mAP50  mAP50-95):  88%|████████▊ | 14/16 [02:01<00:18,  9.31s/it]WARNING ⚠️ NMS time limit 2.100s exceeded\n",
      "                 Class     Images  Instances      Box(P          R      mAP50  mAP50-95): 100%|██████████| 16/16 [02:20<00:00,  8.77s/it]\n",
      "                   all        500        947       0.05      0.103     0.0222    0.00515\n",
      "\n",
      "      Epoch    GPU_mem   box_loss   cls_loss   dfl_loss  Instances       Size\n",
      "       7/60         0G      3.035      3.169      3.412         20        640: 100%|██████████| 32/32 [07:49<00:00, 14.67s/it]\n",
      "                 Class     Images  Instances      Box(P          R      mAP50  mAP50-95): 100%|██████████| 16/16 [02:04<00:00,  7.78s/it]\n",
      "                   all        500        947     0.0388      0.377     0.0217    0.00697\n",
      "\n",
      "      Epoch    GPU_mem   box_loss   cls_loss   dfl_loss  Instances       Size\n",
      "       8/60         0G      3.012      3.126      3.313         23        640: 100%|██████████| 32/32 [07:50<00:00, 14.72s/it]\n",
      "                 Class     Images  Instances      Box(P          R      mAP50  mAP50-95): 100%|██████████| 16/16 [02:07<00:00,  7.97s/it]\n",
      "                   all        500        947    0.00763      0.346    0.00549    0.00176\n",
      "\n",
      "      Epoch    GPU_mem   box_loss   cls_loss   dfl_loss  Instances       Size\n",
      "       9/60         0G      2.916      3.024      3.201         20        640: 100%|██████████| 32/32 [07:53<00:00, 14.81s/it]\n",
      "                 Class     Images  Instances      Box(P          R      mAP50  mAP50-95): 100%|██████████| 16/16 [02:08<00:00,  8.05s/it]\n",
      "                   all        500        947     0.0776      0.172     0.0477     0.0118\n",
      "\n",
      "      Epoch    GPU_mem   box_loss   cls_loss   dfl_loss  Instances       Size\n",
      "      10/60         0G      2.853      2.933      3.121         32        640: 100%|██████████| 32/32 [07:53<00:00, 14.79s/it]\n",
      "                 Class     Images  Instances      Box(P          R      mAP50  mAP50-95): 100%|██████████| 16/16 [02:14<00:00,  8.42s/it]\n",
      "                   all        500        947     0.0554      0.122     0.0236    0.00653\n",
      "\n",
      "      Epoch    GPU_mem   box_loss   cls_loss   dfl_loss  Instances       Size\n",
      "      11/60         0G      2.777      2.866      3.017         18        640: 100%|██████████| 32/32 [07:45<00:00, 14.56s/it]\n",
      "                 Class     Images  Instances      Box(P          R      mAP50  mAP50-95): 100%|██████████| 16/16 [02:07<00:00,  7.97s/it]\n",
      "                   all        500        947     0.0829      0.172      0.046     0.0134\n",
      "\n",
      "      Epoch    GPU_mem   box_loss   cls_loss   dfl_loss  Instances       Size\n",
      "      12/60         0G      2.744      2.887      2.995         35        640: 100%|██████████| 32/32 [07:42<00:00, 14.45s/it]\n",
      "                 Class     Images  Instances      Box(P          R      mAP50  mAP50-95): 100%|██████████| 16/16 [02:05<00:00,  7.85s/it]\n",
      "                   all        500        947      0.099      0.183     0.0549     0.0177\n",
      "\n",
      "      Epoch    GPU_mem   box_loss   cls_loss   dfl_loss  Instances       Size\n",
      "      13/60         0G      2.656      2.806      2.914         22        640: 100%|██████████| 32/32 [07:52<00:00, 14.76s/it]\n",
      "                 Class     Images  Instances      Box(P          R      mAP50  mAP50-95): 100%|██████████| 16/16 [02:05<00:00,  7.85s/it]\n",
      "                   all        500        947       0.12      0.165     0.0678     0.0213\n",
      "\n",
      "      Epoch    GPU_mem   box_loss   cls_loss   dfl_loss  Instances       Size\n",
      "      14/60         0G      2.623      2.769      2.902         17        640: 100%|██████████| 32/32 [07:57<00:00, 14.92s/it]\n",
      "                 Class     Images  Instances      Box(P          R      mAP50  mAP50-95): 100%|██████████| 16/16 [02:06<00:00,  7.88s/it]\n",
      "                   all        500        947      0.172      0.298      0.104     0.0339\n",
      "\n",
      "      Epoch    GPU_mem   box_loss   cls_loss   dfl_loss  Instances       Size\n",
      "      15/60         0G      2.525      2.713      2.806         21        640: 100%|██████████| 32/32 [07:48<00:00, 14.66s/it]\n",
      "                 Class     Images  Instances      Box(P          R      mAP50  mAP50-95): 100%|██████████| 16/16 [02:06<00:00,  7.89s/it]\n",
      "                   all        500        947      0.289      0.272      0.169     0.0569\n",
      "\n",
      "      Epoch    GPU_mem   box_loss   cls_loss   dfl_loss  Instances       Size\n",
      "      16/60         0G      2.498      2.649      2.781         22        640: 100%|██████████| 32/32 [07:47<00:00, 14.61s/it]\n",
      "                 Class     Images  Instances      Box(P          R      mAP50  mAP50-95): 100%|██████████| 16/16 [02:06<00:00,  7.88s/it]\n",
      "                   all        500        947      0.134      0.203     0.0712     0.0229\n",
      "\n",
      "      Epoch    GPU_mem   box_loss   cls_loss   dfl_loss  Instances       Size\n",
      "      17/60         0G      2.436      2.587      2.697         22        640: 100%|██████████| 32/32 [07:49<00:00, 14.66s/it]\n",
      "                 Class     Images  Instances      Box(P          R      mAP50  mAP50-95): 100%|██████████| 16/16 [02:05<00:00,  7.82s/it]\n",
      "                   all        500        947      0.137       0.24     0.0861     0.0299\n",
      "\n",
      "      Epoch    GPU_mem   box_loss   cls_loss   dfl_loss  Instances       Size\n",
      "      18/60         0G      2.395      2.576      2.675         23        640: 100%|██████████| 32/32 [07:40<00:00, 14.40s/it]\n",
      "                 Class     Images  Instances      Box(P          R      mAP50  mAP50-95): 100%|██████████| 16/16 [02:03<00:00,  7.75s/it]\n",
      "                   all        500        947      0.344      0.303      0.226     0.0875\n",
      "\n",
      "      Epoch    GPU_mem   box_loss   cls_loss   dfl_loss  Instances       Size\n",
      "      19/60         0G      2.292      2.509      2.595         20        640: 100%|██████████| 32/32 [07:40<00:00, 14.41s/it]\n",
      "                 Class     Images  Instances      Box(P          R      mAP50  mAP50-95): 100%|██████████| 16/16 [02:01<00:00,  7.60s/it]\n",
      "                   all        500        947      0.238       0.25       0.15     0.0515\n",
      "\n",
      "      Epoch    GPU_mem   box_loss   cls_loss   dfl_loss  Instances       Size\n",
      "      20/60         0G      2.261      2.446      2.596         23        640: 100%|██████████| 32/32 [07:45<00:00, 14.56s/it]\n",
      "                 Class     Images  Instances      Box(P          R      mAP50  mAP50-95): 100%|██████████| 16/16 [02:04<00:00,  7.79s/it]\n",
      "                   all        500        947      0.349      0.325      0.258     0.0976\n",
      "\n",
      "      Epoch    GPU_mem   box_loss   cls_loss   dfl_loss  Instances       Size\n",
      "      21/60         0G      2.211      2.437      2.563         10        640: 100%|██████████| 32/32 [07:48<00:00, 14.65s/it]\n",
      "                 Class     Images  Instances      Box(P          R      mAP50  mAP50-95): 100%|██████████| 16/16 [02:05<00:00,  7.85s/it]\n",
      "                   all        500        947      0.381      0.323      0.256      0.111\n",
      "\n",
      "      Epoch    GPU_mem   box_loss   cls_loss   dfl_loss  Instances       Size\n",
      "      22/60         0G      2.194      2.401      2.522         21        640: 100%|██████████| 32/32 [07:53<00:00, 14.81s/it]\n",
      "                 Class     Images  Instances      Box(P          R      mAP50  mAP50-95): 100%|██████████| 16/16 [02:07<00:00,  7.97s/it]\n",
      "                   all        500        947      0.173       0.18     0.0833     0.0292\n",
      "\n",
      "      Epoch    GPU_mem   box_loss   cls_loss   dfl_loss  Instances       Size\n",
      "      23/60         0G      2.152       2.33      2.463         27        640: 100%|██████████| 32/32 [07:57<00:00, 14.92s/it]\n",
      "                 Class     Images  Instances      Box(P          R      mAP50  mAP50-95): 100%|██████████| 16/16 [02:02<00:00,  7.66s/it]\n",
      "                   all        500        947      0.469      0.369      0.337       0.16\n",
      "\n",
      "      Epoch    GPU_mem   box_loss   cls_loss   dfl_loss  Instances       Size\n",
      "      24/60         0G      2.071      2.291      2.401         19        640: 100%|██████████| 32/32 [07:48<00:00, 14.64s/it]\n",
      "                 Class     Images  Instances      Box(P          R      mAP50  mAP50-95): 100%|██████████| 16/16 [02:02<00:00,  7.64s/it]\n",
      "                   all        500        947      0.423      0.335      0.291      0.132\n",
      "\n",
      "      Epoch    GPU_mem   box_loss   cls_loss   dfl_loss  Instances       Size\n",
      "      25/60         0G      2.076      2.274      2.396         23        640: 100%|██████████| 32/32 [07:44<00:00, 14.53s/it]\n",
      "                 Class     Images  Instances      Box(P          R      mAP50  mAP50-95): 100%|██████████| 16/16 [02:03<00:00,  7.72s/it]\n",
      "                   all        500        947      0.521      0.365      0.365      0.189\n",
      "\n",
      "      Epoch    GPU_mem   box_loss   cls_loss   dfl_loss  Instances       Size\n",
      "      26/60         0G          2      2.176      2.327          9        640: 100%|██████████| 32/32 [07:44<00:00, 14.52s/it]\n",
      "                 Class     Images  Instances      Box(P          R      mAP50  mAP50-95): 100%|██████████| 16/16 [02:04<00:00,  7.81s/it]\n",
      "                   all        500        947      0.538      0.402      0.411      0.223\n",
      "\n",
      "      Epoch    GPU_mem   box_loss   cls_loss   dfl_loss  Instances       Size\n",
      "      27/60         0G      2.021      2.185      2.343         19        640: 100%|██████████| 32/32 [07:51<00:00, 14.74s/it]\n",
      "                 Class     Images  Instances      Box(P          R      mAP50  mAP50-95): 100%|██████████| 16/16 [02:04<00:00,  7.80s/it]\n",
      "                   all        500        947      0.478      0.413      0.384      0.198\n",
      "\n",
      "      Epoch    GPU_mem   box_loss   cls_loss   dfl_loss  Instances       Size\n",
      "      28/60         0G       1.96      2.132      2.273         20        640: 100%|██████████| 32/32 [07:54<00:00, 14.83s/it]\n",
      "                 Class     Images  Instances      Box(P          R      mAP50  mAP50-95): 100%|██████████| 16/16 [02:06<00:00,  7.91s/it]\n",
      "                   all        500        947       0.57      0.395      0.429      0.229\n",
      "\n",
      "      Epoch    GPU_mem   box_loss   cls_loss   dfl_loss  Instances       Size\n",
      "      29/60         0G      1.953      2.143       2.29         21        640: 100%|██████████| 32/32 [07:50<00:00, 14.72s/it]\n",
      "                 Class     Images  Instances      Box(P          R      mAP50  mAP50-95): 100%|██████████| 16/16 [02:02<00:00,  7.63s/it]\n",
      "                   all        500        947      0.608      0.432      0.452      0.208\n",
      "\n",
      "      Epoch    GPU_mem   box_loss   cls_loss   dfl_loss  Instances       Size\n",
      "      30/60         0G      1.903      2.073      2.243          9        640: 100%|██████████| 32/32 [07:37<00:00, 14.28s/it]\n",
      "                 Class     Images  Instances      Box(P          R      mAP50  mAP50-95): 100%|██████████| 16/16 [02:00<00:00,  7.53s/it]\n",
      "                   all        500        947      0.635      0.442      0.486      0.271\n",
      "\n",
      "      Epoch    GPU_mem   box_loss   cls_loss   dfl_loss  Instances       Size\n",
      "      31/60         0G      1.897      2.057      2.205         12        640: 100%|██████████| 32/32 [07:31<00:00, 14.10s/it]\n",
      "                 Class     Images  Instances      Box(P          R      mAP50  mAP50-95): 100%|██████████| 16/16 [02:02<00:00,  7.63s/it]\n",
      "                   all        500        947       0.45      0.359      0.326      0.159\n",
      "\n",
      "      Epoch    GPU_mem   box_loss   cls_loss   dfl_loss  Instances       Size\n",
      "      32/60         0G       1.93      2.028      2.209         40        640: 100%|██████████| 32/32 [07:37<00:00, 14.31s/it]\n",
      "                 Class     Images  Instances      Box(P          R      mAP50  mAP50-95): 100%|██████████| 16/16 [02:02<00:00,  7.63s/it]\n",
      "                   all        500        947      0.592      0.421      0.444      0.221\n",
      "\n",
      "      Epoch    GPU_mem   box_loss   cls_loss   dfl_loss  Instances       Size\n",
      "      33/60         0G      1.842      1.972      2.168         27        640: 100%|██████████| 32/32 [07:32<00:00, 14.14s/it]\n",
      "                 Class     Images  Instances      Box(P          R      mAP50  mAP50-95): 100%|██████████| 16/16 [02:02<00:00,  7.63s/it]\n",
      "                   all        500        947      0.765      0.468      0.545      0.321\n",
      "\n",
      "      Epoch    GPU_mem   box_loss   cls_loss   dfl_loss  Instances       Size\n",
      "      34/60         0G      1.848      1.962      2.166         16        640: 100%|██████████| 32/32 [07:35<00:00, 14.23s/it]\n",
      "                 Class     Images  Instances      Box(P          R      mAP50  mAP50-95): 100%|██████████| 16/16 [02:02<00:00,  7.66s/it]\n",
      "                   all        500        947       0.72      0.478      0.537      0.321\n",
      "\n",
      "      Epoch    GPU_mem   box_loss   cls_loss   dfl_loss  Instances       Size\n",
      "      35/60         0G       1.85      1.967      2.145         29        640: 100%|██████████| 32/32 [07:47<00:00, 14.61s/it]\n",
      "                 Class     Images  Instances      Box(P          R      mAP50  mAP50-95): 100%|██████████| 16/16 [02:01<00:00,  7.61s/it]\n",
      "                   all        500        947      0.793      0.489      0.566      0.323\n",
      "\n",
      "      Epoch    GPU_mem   box_loss   cls_loss   dfl_loss  Instances       Size\n",
      "      36/60         0G      1.802      1.928      2.129         26        640: 100%|██████████| 32/32 [07:33<00:00, 14.18s/it]\n",
      "                 Class     Images  Instances      Box(P          R      mAP50  mAP50-95): 100%|██████████| 16/16 [02:02<00:00,  7.67s/it]\n",
      "                   all        500        947      0.726      0.467      0.537      0.323\n",
      "\n",
      "      Epoch    GPU_mem   box_loss   cls_loss   dfl_loss  Instances       Size\n",
      "      37/60         0G       1.82      1.926      2.116         20        640: 100%|██████████| 32/32 [07:35<00:00, 14.22s/it]\n",
      "                 Class     Images  Instances      Box(P          R      mAP50  mAP50-95): 100%|██████████| 16/16 [02:00<00:00,  7.54s/it]\n",
      "                   all        500        947      0.744      0.473      0.548      0.334\n",
      "\n",
      "      Epoch    GPU_mem   box_loss   cls_loss   dfl_loss  Instances       Size\n",
      "      38/60         0G        1.8      1.863      2.079         22        640: 100%|██████████| 32/32 [07:36<00:00, 14.27s/it]\n",
      "                 Class     Images  Instances      Box(P          R      mAP50  mAP50-95): 100%|██████████| 16/16 [02:01<00:00,  7.58s/it]\n",
      "                   all        500        947      0.645       0.46      0.495      0.286\n",
      "\n",
      "      Epoch    GPU_mem   box_loss   cls_loss   dfl_loss  Instances       Size\n",
      "      39/60         0G      1.778      1.898      2.081         29        640: 100%|██████████| 32/32 [07:41<00:00, 14.43s/it]\n",
      "                 Class     Images  Instances      Box(P          R      mAP50  mAP50-95): 100%|██████████| 16/16 [02:03<00:00,  7.72s/it]\n",
      "                   all        500        947      0.745      0.505      0.576      0.355\n",
      "\n",
      "      Epoch    GPU_mem   box_loss   cls_loss   dfl_loss  Instances       Size\n",
      "      40/60         0G      1.748      1.844      2.047         15        640: 100%|██████████| 32/32 [07:34<00:00, 14.21s/it]\n",
      "                 Class     Images  Instances      Box(P          R      mAP50  mAP50-95): 100%|██████████| 16/16 [02:02<00:00,  7.64s/it]\n",
      "                   all        500        947      0.776      0.496      0.576      0.345\n",
      "\n",
      "      Epoch    GPU_mem   box_loss   cls_loss   dfl_loss  Instances       Size\n",
      "      41/60         0G      1.745      1.816      2.048         30        640: 100%|██████████| 32/32 [07:42<00:00, 14.46s/it]\n",
      "                 Class     Images  Instances      Box(P          R      mAP50  mAP50-95): 100%|██████████| 16/16 [02:02<00:00,  7.63s/it]\n",
      "                   all        500        947      0.791      0.475      0.574      0.352\n",
      "\n",
      "      Epoch    GPU_mem   box_loss   cls_loss   dfl_loss  Instances       Size\n",
      "      42/60         0G       1.76      1.843      2.052         22        640: 100%|██████████| 32/32 [07:36<00:00, 14.27s/it]\n",
      "                 Class     Images  Instances      Box(P          R      mAP50  mAP50-95): 100%|██████████| 16/16 [02:01<00:00,  7.60s/it]\n",
      "                   all        500        947      0.662      0.487      0.536      0.321\n",
      "\n",
      "      Epoch    GPU_mem   box_loss   cls_loss   dfl_loss  Instances       Size\n",
      "      43/60         0G      1.738      1.818      2.025         23        640: 100%|██████████| 32/32 [07:43<00:00, 14.49s/it]\n",
      "                 Class     Images  Instances      Box(P          R      mAP50  mAP50-95): 100%|██████████| 16/16 [02:02<00:00,  7.63s/it]\n",
      "                   all        500        947      0.777      0.482      0.561      0.342\n",
      "\n",
      "      Epoch    GPU_mem   box_loss   cls_loss   dfl_loss  Instances       Size\n",
      "      44/60         0G      1.743      1.811      2.032         14        640: 100%|██████████| 32/32 [07:35<00:00, 14.24s/it]\n",
      "                 Class     Images  Instances      Box(P          R      mAP50  mAP50-95): 100%|██████████| 16/16 [02:02<00:00,  7.67s/it]\n",
      "                   all        500        947      0.709      0.471      0.537      0.318\n",
      "\n",
      "      Epoch    GPU_mem   box_loss   cls_loss   dfl_loss  Instances       Size\n",
      "      45/60         0G      1.699      1.752      2.004         29        640: 100%|██████████| 32/32 [07:43<00:00, 14.48s/it]\n",
      "                 Class     Images  Instances      Box(P          R      mAP50  mAP50-95): 100%|██████████| 16/16 [02:02<00:00,  7.67s/it]\n",
      "                   all        500        947      0.806      0.512      0.599      0.366\n",
      "\n",
      "      Epoch    GPU_mem   box_loss   cls_loss   dfl_loss  Instances       Size\n",
      "      46/60         0G      1.695       1.76      1.987         17        640: 100%|██████████| 32/32 [07:36<00:00, 14.26s/it]\n",
      "                 Class     Images  Instances      Box(P          R      mAP50  mAP50-95): 100%|██████████| 16/16 [02:01<00:00,  7.60s/it]\n",
      "                   all        500        947      0.728      0.486      0.566      0.352\n",
      "\n",
      "      Epoch    GPU_mem   box_loss   cls_loss   dfl_loss  Instances       Size\n",
      "      47/60         0G      1.717      1.772      2.016         14        640: 100%|██████████| 32/32 [07:45<00:00, 14.54s/it]\n",
      "                 Class     Images  Instances      Box(P          R      mAP50  mAP50-95): 100%|██████████| 16/16 [02:01<00:00,  7.61s/it]\n",
      "                   all        500        947      0.792      0.515      0.606      0.367\n",
      "\n",
      "      Epoch    GPU_mem   box_loss   cls_loss   dfl_loss  Instances       Size\n",
      "      48/60         0G      1.677      1.745      1.994         30        640: 100%|██████████| 32/32 [07:32<00:00, 14.13s/it]\n",
      "                 Class     Images  Instances      Box(P          R      mAP50  mAP50-95): 100%|██████████| 16/16 [02:01<00:00,  7.61s/it]\n",
      "                   all        500        947        0.8      0.516      0.601      0.371\n",
      "\n",
      "      Epoch    GPU_mem   box_loss   cls_loss   dfl_loss  Instances       Size\n",
      "      49/60         0G      1.667      1.738      1.954         20        640: 100%|██████████| 32/32 [07:37<00:00, 14.31s/it]\n",
      "                 Class     Images  Instances      Box(P          R      mAP50  mAP50-95): 100%|██████████| 16/16 [02:03<00:00,  7.69s/it]\n",
      "                   all        500        947      0.782      0.497      0.585      0.371\n",
      "\n",
      "      Epoch    GPU_mem   box_loss   cls_loss   dfl_loss  Instances       Size\n",
      "      50/60         0G      1.663      1.723      1.954         30        640: 100%|██████████| 32/32 [07:38<00:00, 14.34s/it]\n",
      "                 Class     Images  Instances      Box(P          R      mAP50  mAP50-95): 100%|██████████| 16/16 [02:02<00:00,  7.69s/it]\n",
      "                   all        500        947      0.788      0.529      0.605      0.386\n",
      "Closing dataloader mosaic\n",
      "\u001b[34m\u001b[1malbumentations: \u001b[0mBlur(p=0.01, blur_limit=(3, 7)), MedianBlur(p=0.01, blur_limit=(3, 7)), ToGray(p=0.01), CLAHE(p=0.01, clip_limit=(1, 4.0), tile_grid_size=(8, 8))\n",
      "\n",
      "      Epoch    GPU_mem   box_loss   cls_loss   dfl_loss  Instances       Size\n",
      "      51/60         0G       1.65      1.844      1.975         12        640: 100%|██████████| 32/32 [07:13<00:00, 13.55s/it]\n",
      "                 Class     Images  Instances      Box(P          R      mAP50  mAP50-95): 100%|██████████| 16/16 [02:03<00:00,  7.73s/it]\n",
      "                   all        500        947      0.811      0.472      0.573      0.318\n",
      "\n",
      "      Epoch    GPU_mem   box_loss   cls_loss   dfl_loss  Instances       Size\n",
      "      52/60         0G      1.626      1.733      1.946          9        640: 100%|██████████| 32/32 [07:08<00:00, 13.39s/it]\n",
      "                 Class     Images  Instances      Box(P          R      mAP50  mAP50-95): 100%|██████████| 16/16 [02:02<00:00,  7.64s/it]\n",
      "                   all        500        947      0.774      0.536      0.612      0.395\n",
      "\n",
      "      Epoch    GPU_mem   box_loss   cls_loss   dfl_loss  Instances       Size\n",
      "      53/60         0G      1.608      1.686       1.92          7        640: 100%|██████████| 32/32 [07:09<00:00, 13.41s/it]\n",
      "                 Class     Images  Instances      Box(P          R      mAP50  mAP50-95): 100%|██████████| 16/16 [02:01<00:00,  7.62s/it]\n",
      "                   all        500        947      0.783      0.511      0.606      0.392\n",
      "\n",
      "      Epoch    GPU_mem   box_loss   cls_loss   dfl_loss  Instances       Size\n",
      "      54/60         0G      1.592       1.68      1.908         13        640: 100%|██████████| 32/32 [07:13<00:00, 13.55s/it]\n",
      "                 Class     Images  Instances      Box(P          R      mAP50  mAP50-95): 100%|██████████| 16/16 [02:01<00:00,  7.61s/it]\n",
      "                   all        500        947      0.815      0.509      0.607      0.391\n",
      "\n",
      "      Epoch    GPU_mem   box_loss   cls_loss   dfl_loss  Instances       Size\n",
      "      55/60         0G      1.576      1.697      1.897         13        640: 100%|██████████| 32/32 [07:08<00:00, 13.40s/it]\n",
      "                 Class     Images  Instances      Box(P          R      mAP50  mAP50-95): 100%|██████████| 16/16 [02:02<00:00,  7.68s/it]\n",
      "                   all        500        947      0.804      0.527      0.629      0.402\n",
      "\n",
      "      Epoch    GPU_mem   box_loss   cls_loss   dfl_loss  Instances       Size\n",
      "      56/60         0G      1.558      1.652      1.885         12        640: 100%|██████████| 32/32 [07:07<00:00, 13.36s/it]\n",
      "                 Class     Images  Instances      Box(P          R      mAP50  mAP50-95): 100%|██████████| 16/16 [02:03<00:00,  7.69s/it]\n",
      "                   all        500        947      0.865      0.509      0.621      0.417\n",
      "\n",
      "      Epoch    GPU_mem   box_loss   cls_loss   dfl_loss  Instances       Size\n",
      "      57/60         0G      1.539      1.625      1.853         15        640: 100%|██████████| 32/32 [07:16<00:00, 13.65s/it]\n",
      "                 Class     Images  Instances      Box(P          R      mAP50  mAP50-95): 100%|██████████| 16/16 [02:01<00:00,  7.61s/it]\n",
      "                   all        500        947      0.834      0.518      0.626       0.42\n",
      "\n",
      "      Epoch    GPU_mem   box_loss   cls_loss   dfl_loss  Instances       Size\n",
      "      58/60         0G      1.546      1.613      1.856         11        640: 100%|██████████| 32/32 [07:11<00:00, 13.48s/it]\n",
      "                 Class     Images  Instances      Box(P          R      mAP50  mAP50-95): 100%|██████████| 16/16 [02:03<00:00,  7.70s/it]\n",
      "                   all        500        947      0.828      0.528      0.629      0.418\n",
      "\n",
      "      Epoch    GPU_mem   box_loss   cls_loss   dfl_loss  Instances       Size\n",
      "      59/60         0G      1.531      1.641       1.85          7        640: 100%|██████████| 32/32 [07:12<00:00, 13.53s/it]\n",
      "                 Class     Images  Instances      Box(P          R      mAP50  mAP50-95): 100%|██████████| 16/16 [02:01<00:00,  7.58s/it]\n",
      "                   all        500        947      0.753      0.536       0.62      0.416\n",
      "\n",
      "      Epoch    GPU_mem   box_loss   cls_loss   dfl_loss  Instances       Size\n",
      "      60/60         0G      1.501      1.608      1.834          9        640: 100%|██████████| 32/32 [07:10<00:00, 13.46s/it]\n",
      "                 Class     Images  Instances      Box(P          R      mAP50  mAP50-95): 100%|██████████| 16/16 [02:06<00:00,  7.88s/it]\n",
      "                   all        500        947      0.801      0.552      0.633      0.423\n",
      "\n",
      "60 epochs completed in 9.776 hours.\n",
      "Optimizer stripped from runs/detect/train/weights/last.pt, 6.3MB\n",
      "Optimizer stripped from runs/detect/train/weights/best.pt, 6.3MB\n",
      "\n",
      "Validating runs/detect/train/weights/best.pt...\n",
      "Ultralytics YOLOv8.0.0 🚀 Python-3.10.12 torch-2.1.0+cu121 CPU\n",
      "Fusing layers... \n",
      "YOLOv8n summary: 168 layers, 3005843 parameters, 0 gradients, 8.1 GFLOPs\n",
      "                 Class     Images  Instances      Box(P          R      mAP50  mAP50-95): 100%|██████████| 16/16 [01:53<00:00,  7.08s/it]\n",
      "                   all        500        947      0.801      0.552      0.634      0.423\n",
      "Speed: 1.9ms pre-process, 185.7ms inference, 0.0ms loss, 1.1ms post-process per image\n",
      "Saving runs/detect/train/predictions.json...\n",
      "Results saved to \u001b[1mruns/detect/train\u001b[0m\n"
     ]
    }
   ],
   "source": [
    "model = YOLO('yolov8n.yaml')\n",
    "results = model.train(data='data/Car/dataset.yaml', epochs=60)"
   ]
  },
  {
   "cell_type": "code",
   "execution_count": null,
   "metadata": {
    "id": "e4FJVPhk67Ox"
   },
   "outputs": [],
   "source": []
  }
 ],
 "metadata": {
  "accelerator": "TPU",
  "colab": {
   "provenance": []
  },
  "kernelspec": {
   "display_name": "Python 3 (ipykernel)",
   "language": "python",
   "name": "python3"
  },
  "language_info": {
   "codemirror_mode": {
    "name": "ipython",
    "version": 3
   },
   "file_extension": ".py",
   "mimetype": "text/x-python",
   "name": "python",
   "nbconvert_exporter": "python",
   "pygments_lexer": "ipython3",
   "version": "3.10.6"
  },
  "toc": {
   "base_numbering": 1,
   "nav_menu": {},
   "number_sections": true,
   "sideBar": true,
   "skip_h1_title": false,
   "title_cell": "Table of Contents",
   "title_sidebar": "Contents",
   "toc_cell": false,
   "toc_position": {},
   "toc_section_display": true,
   "toc_window_display": false
  }
 },
 "nbformat": 4,
 "nbformat_minor": 1
}
